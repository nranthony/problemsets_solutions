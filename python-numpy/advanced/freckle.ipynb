{
 "cells": [
  {
   "cell_type": "markdown",
   "metadata": {
    "id": "t1VEtnSjbu-d"
   },
   "source": [
    "[![PracticeProbs](https://d33wubrfki0l68.cloudfront.net/b6800cc830e3fd5a3a4c3d9cfb1137e6a4c15c77/ec467/assets/images/transparent-1.png)](https://www.practiceprobs.com/)"
   ]
  },
  {
   "cell_type": "markdown",
   "metadata": {
    "id": "M6yShpelZy-I"
   },
   "source": [
    "# [Freckle](https://www.practiceprobs.com/problemsets/python-numpy/advanced/freckle/)\n",
    "\n",
    "Given a 1-D array called `freckle`,"
   ]
  },
  {
   "cell_type": "code",
   "execution_count": 1,
   "metadata": {
    "id": "ZlHN2R3QaPX3"
   },
   "outputs": [],
   "source": [
    "import numpy as np\n",
    "freckle = np.array([2,7,3,1,0,5])"
   ]
  },
  {
   "cell_type": "markdown",
   "metadata": {
    "id": "vOLTbQVgoBdb"
   },
   "source": [
    "perform the following sequence of operations:\n",
    "\n",
    "1. Sort the elements in descending order:\t\n",
    "    `7, 5, 3, 2, 1, 0`\n",
    "    \n",
    "2. Take their cumulative sum:\t\n",
    "    `7, 12, 15, 17, 18, 18`\n",
    "    \n",
    "3. Undo the sort from step 1:\t\n",
    "    `17, 7, 15, 18, 18, 12`"
   ]
  },
  {
   "cell_type": "markdown",
   "metadata": {
    "id": "h7D8d-J5cela"
   },
   "source": [
    "---"
   ]
  },
  {
   "cell_type": "code",
   "execution_count": 4,
   "metadata": {},
   "outputs": [],
   "source": [
    "rev_sort_idxs = np.argsort(freckle)[::-1]\n",
    "# 1 - sort decending\n",
    "freckle_sorted = freckle[rev_sort_idxs]\n",
    "# 2 - cumulative sum\n",
    "frc_srt_cumsum = freckle_sorted.cumsum()\n",
    "# 3 - invert sort order\n",
    "frc_revert_cumsum = np.zeros(len(freckle))\n",
    "frc_revert_cumsum[rev_sort_idxs] = frc_srt_cumsum"
   ]
  },
  {
   "cell_type": "markdown",
   "metadata": {
    "id": "bF3kvEc4a4It"
   },
   "source": [
    "## [See our solution!](https://www.practiceprobs.com/problemsets/python-numpy/advanced/freckle/solution/)"
   ]
  }
 ],
 "metadata": {
  "colab": {
   "collapsed_sections": [],
   "name": "freckle.ipynb",
   "provenance": []
  },
  "kernelspec": {
   "display_name": "linusbio",
   "language": "python",
   "name": "python3"
  },
  "language_info": {
   "codemirror_mode": {
    "name": "ipython",
    "version": 3
   },
   "file_extension": ".py",
   "mimetype": "text/x-python",
   "name": "python",
   "nbconvert_exporter": "python",
   "pygments_lexer": "ipython3",
   "version": "3.11.10"
  }
 },
 "nbformat": 4,
 "nbformat_minor": 0
}
