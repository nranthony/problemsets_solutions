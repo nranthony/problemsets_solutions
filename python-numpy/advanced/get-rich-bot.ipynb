{
 "cells": [
  {
   "cell_type": "markdown",
   "metadata": {
    "id": "t1VEtnSjbu-d"
   },
   "source": [
    "[![PracticeProbs](https://d33wubrfki0l68.cloudfront.net/b6800cc830e3fd5a3a4c3d9cfb1137e6a4c15c77/ec467/assets/images/transparent-1.png)](https://www.practiceprobs.com/)"
   ]
  },
  {
   "cell_type": "markdown",
   "metadata": {
    "id": "M6yShpelZy-I"
   },
   "source": [
    "# [Get Rich Bot](https://www.practiceprobs.com/problemsets/python-numpy/advanced/get-rich-bot/)\n",
    "\n",
    "You've developed an algorithmic stock trading bot to strike it rich 🤑, but you want to backtest it before putting it into production. You have price data on 10 stocks, each tracked at 8 regular time intervals."
   ]
  },
  {
   "cell_type": "code",
   "execution_count": 1,
   "metadata": {
    "id": "ZlHN2R3QaPX3"
   },
   "outputs": [
    {
     "name": "stdout",
     "output_type": "stream",
     "text": [
      "[[  4.1    4.78   4.19   4.9    6.95   2.56   4.99   2.37]\n",
      " [ 27.81  29.65  27.46  28.84  27.06  26.17  28.76  30.06]\n",
      " [ 32.79  34.06  34.56  34.98  32.63  34.49  34.14  33.76]\n",
      " [ 19.67  19.73  21.68  20.61  19.87  17.86  19.48  19.85]\n",
      " [  4.24   6.39   5.32   3.87   4.23   5.27   6.68   4.06]\n",
      " [ 98.02  96.79  99.02  99.94  98.28  99.15  98.19  98.49]\n",
      " [107.11 105.01 109.01 105.19 107.06 106.71 106.13 106.41]\n",
      " [ 17.89  16.34  15.88  17.53  18.79  16.91  18.75  16.96]\n",
      " [ 96.28  95.84  96.26  94.48  95.42  93.75  93.54  96.24]\n",
      " [ 18.31  17.43  16.53  20.2   18.68  17.48  17.33  18.96]]\n"
     ]
    }
   ],
   "source": [
    "import numpy as np\n",
    "\n",
    "rng = np.random.default_rng(1234)\n",
    "prices = [rng.normal(rng.lognormal(3, 1), size=8).round(2) for i in range(10)]\n",
    "prices = np.vstack(prices)\n",
    "\n",
    "print(prices) \n",
    "# [[  4.1    4.78   4.19   4.9    6.95   2.56   4.99   2.37]\n",
    "#  [ 27.81  29.65  27.46  28.84  27.06  26.17  28.76  30.06]\n",
    "#  [ 32.79  34.06  34.56  34.98  32.63  34.49  34.14  33.76]\n",
    "#  [ 19.67  19.73  21.68  20.61  19.87  17.86  19.48  19.85]\n",
    "#  [  4.24   6.39   5.32   3.87   4.23   5.27   6.68   4.06]\n",
    "#  [ 98.02  96.79  99.02  99.94  98.28  99.15  98.19  98.49]\n",
    "#  [107.11 105.01 109.01 105.19 107.06 106.71 106.13 106.41]\n",
    "#  [ 17.89  16.34  15.88  17.53  18.79  16.91  18.75  16.96]\n",
    "#  [ 96.28  95.84  96.26  94.48  95.42  93.75  93.54  96.24]\n",
    "#  [ 18.31  17.43  16.53  20.2   18.68  17.48  17.33  18.96]]"
   ]
  },
  {
   "cell_type": "markdown",
   "metadata": {
    "id": "vOLTbQVgoBdb"
   },
   "source": [
    "For each stock, your algorithm suggests the best time to buy the stock and the best time to sell the stock."
   ]
  },
  {
   "cell_type": "code",
   "execution_count": 2,
   "metadata": {
    "id": "zuGoMwcBo5qG"
   },
   "outputs": [
    {
     "name": "stdout",
     "output_type": "stream",
     "text": [
      "[[0 1]\n",
      " [3 6]\n",
      " [2 4]\n",
      " [1 5]\n",
      " [0 3]\n",
      " [2 7]\n",
      " [2 3]\n",
      " [1 3]\n",
      " [3 6]\n",
      " [1 4]]\n"
     ]
    }
   ],
   "source": [
    "trade_idxs = [np.sort(rng.choice(8, size=2, replace=False)) for i in range(10)]\n",
    "trade_idxs = np.vstack(trade_idxs)\n",
    "\n",
    "print(trade_idxs) \n",
    "# [[0 1]\n",
    "#  [3 6]\n",
    "#  [2 4]\n",
    "#  [1 5]\n",
    "#  [0 3]\n",
    "#  [2 7]\n",
    "#  [2 3]\n",
    "#  [1 3]\n",
    "#  [3 6]\n",
    "#  [1 4]]"
   ]
  },
  {
   "cell_type": "markdown",
   "metadata": {
    "id": "5kzxScexo7jL"
   },
   "source": [
    "trade_idxs identifies the index of the buy price and sell price for each stock. So, the holding periods look like this.\n",
    "\n",
    "```\n",
    "| trade_idxs |     0 |     1 |     2 |      3 |     4 |     5 |     6 |     7 |\n",
    "|:-----------|------:|------:|------:|-------:|------:|------:|------:|------:|\n",
    "| [0 1]      |  4.1  |  4.78 | ----- |  ----- | ----- | ----- | ----- | ----- |\n",
    "| [3 6]      | ----- | ----- | ----- |  28.84 | 27.06 | 26.17 | 28.76 | ----- |\n",
    "| [2 4]      | ----- | ----- | 34.56 |  34.98 | 32.63 | ----- | ----- | ----- |\n",
    "| [1 5]      | ----- | 19.73 | 21.68 |  20.61 | 19.87 | 17.86 | ----- | ----- |\n",
    "| [0 3]      |  4.24 |  6.39 |  5.32 |   3.87 | ----- | ----- | ----- | ----- |\n",
    "| [2 7]      | ----- | ----- | 99.02 |  99.94 | 98.28 | 99.15 | 98.19 | 98.49 |\n",
    "| [2 3]      | ----- | ----- | 09.01 | 105.19 | ----- | ----- | ----- | ----- |\n",
    "| [1 3]      | ----- | 16.34 | 15.88 |  17.53 | ----- | ----- | ----- | ----- |\n",
    "| [3 6]      | ----- | ----- | ----- |  94.48 | 95.42 | 93.75 | 93.54 | ----- |\n",
    "| [1 4]      | ----- | 17.43 | 16.53 |  20.2  | 18.68 | ----- | ----- | ----- |\n",
    "```\n",
    "\n",
    "Given `prices` and `trade_idxs`, calculate the average price of each *holding period*."
   ]
  },
  {
   "cell_type": "markdown",
   "metadata": {
    "id": "h7D8d-J5cela"
   },
   "source": [
    "---"
   ]
  },
  {
   "cell_type": "code",
   "execution_count": 6,
   "metadata": {
    "id": "CWwTWfYCa4k0"
   },
   "outputs": [
    {
     "name": "stdout",
     "output_type": "stream",
     "text": [
      "[4.44, 27.71, 34.06, 19.95, 4.96, 98.84, 107.1, 16.58, 94.3, 18.21]\n"
     ]
    }
   ],
   "source": [
    "avg_holding_price = []\n",
    "for i, t_idx in enumerate(trade_idxs):\n",
    "    holding_period = prices[i][t_idx[0]:t_idx[1]+1]\n",
    "    avg_holding_price.append(holding_period.mean())\n",
    "\n",
    "print([np.round(avg_p, 2) for avg_p in avg_holding_price])"
   ]
  },
  {
   "cell_type": "markdown",
   "metadata": {
    "id": "bF3kvEc4a4It"
   },
   "source": [
    "## [See our solution!](https://www.practiceprobs.com/problemsets/python-numpy/advanced/get-rich-bot/solution/)"
   ]
  }
 ],
 "metadata": {
  "colab": {
   "collapsed_sections": [],
   "name": "get-rich-bot.ipynb",
   "provenance": []
  },
  "kernelspec": {
   "display_name": "linusbio",
   "language": "python",
   "name": "python3"
  },
  "language_info": {
   "codemirror_mode": {
    "name": "ipython",
    "version": 3
   },
   "file_extension": ".py",
   "mimetype": "text/x-python",
   "name": "python",
   "nbconvert_exporter": "python",
   "pygments_lexer": "ipython3",
   "version": "3.11.10"
  }
 },
 "nbformat": 4,
 "nbformat_minor": 0
}
