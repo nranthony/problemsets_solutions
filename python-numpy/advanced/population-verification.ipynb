{
 "cells": [
  {
   "cell_type": "markdown",
   "metadata": {
    "id": "t1VEtnSjbu-d"
   },
   "source": [
    "[![PracticeProbs](https://d33wubrfki0l68.cloudfront.net/b6800cc830e3fd5a3a4c3d9cfb1137e6a4c15c77/ec467/assets/images/transparent-1.png)](https://www.practiceprobs.com/)"
   ]
  },
  {
   "cell_type": "markdown",
   "metadata": {
    "id": "M6yShpelZy-I"
   },
   "source": [
    "# [Population Verification](https://www.practiceprobs.com/problemsets/python-numpy/advanced/population-verification/)\n",
    "\n",
    "You manage a local department for the Census responsible for measuring the population of each block in your city . Even though you could do it yourself, for each of the last five years, you’ve tasked this job to your subordinate, Jim.\n",
    "\n",
    "Each year, Jim gives you a 2x4 array of his population estimates where each element of the array represents a city block. After five years, you have a 5x2x4 array of population estimates called `jim` where (i,j,k) represents Jim’s population estimate for block (j,k) of year i."
   ]
  },
  {
   "cell_type": "code",
   "execution_count": 1,
   "metadata": {
    "id": "ZlHN2R3QaPX3"
   },
   "outputs": [
    {
     "name": "stdout",
     "output_type": "stream",
     "text": [
      "[[[106. 103.  92. 100.]\n",
      "  [ 94. 102.  94. 100.]]\n",
      "\n",
      " [[104.  96. 109.  96.]\n",
      "  [101. 104. 102.  92.]]\n",
      "\n",
      " [[102. 102. 108. 101.]\n",
      "  [ 91. 101. 106.  99.]]\n",
      "\n",
      " [[101.  98.  95. 102.]\n",
      "  [100. 101.  99.  93.]]\n",
      "\n",
      " [[107. 101. 104. 105.]\n",
      "  [102.  97. 101. 102.]]]\n"
     ]
    }
   ],
   "source": [
    "import numpy as np\n",
    "\n",
    "generator = np.random.default_rng(2357)\n",
    "jim = np.round(generator.normal(loc=100, scale=5, size=(5,2,4)))\n",
    "\n",
    "print(jim)\n",
    "# [[[106. 103.  92. 100.]\n",
    "#   [ 94. 102.  94. 100.]]\n",
    "# \n",
    "#  [[104.  96. 109.  96.]\n",
    "#   [101. 104. 102.  92.]]\n",
    "# \n",
    "#  [[102. 102. 108. 101.]\n",
    "#   [ 91. 101. 106.  99.]]\n",
    "# \n",
    "#  [[101.  98.  95. 102.]\n",
    "#   [100. 101.  99.  93.]]\n",
    "# \n",
    "#  [[107. 101. 104. 105.]\n",
    "#   [102.  97. 101. 102.]]]"
   ]
  },
  {
   "cell_type": "markdown",
   "metadata": {
    "id": "w9EsBXWUhpCa"
   },
   "source": [
    "**You don’t fully trust Jim’s estimates** because you see him spending an ungodly amount of time on Facebook. So, each year, you go behind his back and measure the population of two city blocks. After five years, you have the following data:\n",
    "\n",
    "- `blocks`, a 5x2x2 array indicating which blocks you measured each year where (i,j) gives the coordinates for the jth block you measured in year i\n",
    "- `pops`, a corresponding 5x2 array where (i,j) gives the population you measured for the jth block in year i"
   ]
  },
  {
   "cell_type": "code",
   "execution_count": 2,
   "metadata": {
    "id": "7FPkR3y3lorO"
   },
   "outputs": [],
   "source": [
    "blocks = np.array([\n",
    "    [[0,2],[1,3]],\n",
    "    [[1,2],[0,0]],\n",
    "    [[0,0],[1,2]],\n",
    "    [[1,1],[0,3]],\n",
    "    [[0,1],[1,0]]\n",
    "])\n",
    "\n",
    "pops = np.array([\n",
    "    [100, 105],\n",
    "    [110, 92],\n",
    "    [95, 99],\n",
    "    [89, 107],\n",
    "    [101, 98]\n",
    "])"
   ]
  },
  {
   "cell_type": "markdown",
   "metadata": {
    "id": "XnPQZu9ols-v"
   },
   "source": [
    "How many times was Jim’s estimate at least 10% higher or lower than your estimate?"
   ]
  },
  {
   "cell_type": "markdown",
   "metadata": {
    "id": "h7D8d-J5cela"
   },
   "source": [
    "---"
   ]
  },
  {
   "cell_type": "code",
   "execution_count": 12,
   "metadata": {
    "id": "CWwTWfYCa4k0"
   },
   "outputs": [
    {
     "data": {
      "text/plain": [
       "[{'year': 1, 'bc': array([0, 0]), 'jims': 104.0, 'mine': 92},\n",
       " {'year': 3, 'bc': array([1, 1]), 'jims': 101.0, 'mine': 89}]"
      ]
     },
     "execution_count": 12,
     "metadata": {},
     "output_type": "execute_result"
    }
   ],
   "source": [
    "bad_estimates = []\n",
    "for i, (bcoords, pop) in enumerate(zip(blocks, pops)):\n",
    "    # print(i, bcoords, pop)\n",
    "    for j, bc in enumerate(bcoords):\n",
    "        jims = jim[i][bc[0],bc[1]]\n",
    "        mine = pop[j]\n",
    "        if jims >= (1.1*mine) or jims <= (0.9*mine):\n",
    "            bad_estimates.append({\"year\": i, \"bc\": bc, \"jims\": jims, \"mine\": mine})\n",
    "\n",
    "[be for be in bad_estimates]"
   ]
  },
  {
   "cell_type": "markdown",
   "metadata": {
    "id": "bF3kvEc4a4It"
   },
   "source": [
    "## [See our solution!](https://www.practiceprobs.com/problemsets/python-numpy/advanced/population-verification/solution/)"
   ]
  }
 ],
 "metadata": {
  "colab": {
   "collapsed_sections": [],
   "name": "population-verification.ipynb",
   "provenance": []
  },
  "kernelspec": {
   "display_name": "linusbio",
   "language": "python",
   "name": "python3"
  },
  "language_info": {
   "codemirror_mode": {
    "name": "ipython",
    "version": 3
   },
   "file_extension": ".py",
   "mimetype": "text/x-python",
   "name": "python",
   "nbconvert_exporter": "python",
   "pygments_lexer": "ipython3",
   "version": "3.11.11"
  }
 },
 "nbformat": 4,
 "nbformat_minor": 0
}
