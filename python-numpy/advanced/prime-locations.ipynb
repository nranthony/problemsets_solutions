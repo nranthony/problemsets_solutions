{
 "cells": [
  {
   "cell_type": "markdown",
   "metadata": {
    "id": "t1VEtnSjbu-d"
   },
   "source": [
    "[![PracticeProbs](https://d33wubrfki0l68.cloudfront.net/b6800cc830e3fd5a3a4c3d9cfb1137e6a4c15c77/ec467/assets/images/transparent-1.png)](https://www.practiceprobs.com/)"
   ]
  },
  {
   "cell_type": "markdown",
   "metadata": {
    "id": "M6yShpelZy-I"
   },
   "source": [
    "# [Prime Locations](https://www.practiceprobs.com/problemsets/python-numpy/advanced/prime-locations/)\n",
    "\n",
    "Given a 10x10x10 array of zeros, set (i,j,k) = 1 if i is odd, j is even, and k is prime.\n",
    "\n",
    "In other words, set these elements to 1: (1,0,2), (1,0,3), (1,0,5), (1,0,7), (1,2,2), ..."
   ]
  },
  {
   "cell_type": "code",
   "execution_count": 75,
   "metadata": {
    "id": "ZlHN2R3QaPX3"
   },
   "outputs": [
    {
     "name": "stdout",
     "output_type": "stream",
     "text": [
      "[[0. 0. 0. 0. 0. 0. 0. 0. 0. 0.]\n",
      " [0. 0. 0. 0. 0. 0. 0. 0. 0. 0.]\n",
      " [0. 0. 0. 0. 0. 0. 0. 0. 0. 0.]\n",
      " [0. 0. 0. 0. 0. 0. 0. 0. 0. 0.]\n",
      " [0. 0. 0. 0. 0. 0. 0. 0. 0. 0.]\n",
      " [0. 0. 0. 0. 0. 0. 0. 0. 0. 0.]\n",
      " [0. 0. 0. 0. 0. 0. 0. 0. 0. 0.]\n",
      " [0. 0. 0. 0. 0. 0. 0. 0. 0. 0.]\n",
      " [0. 0. 0. 0. 0. 0. 0. 0. 0. 0.]\n",
      " [0. 0. 0. 0. 0. 0. 0. 0. 0. 0.]]\n"
     ]
    }
   ],
   "source": [
    "import numpy as np\n",
    "chewy = np.zeros((10,10,10))\n",
    "\n",
    "print(chewy[0])"
   ]
  },
  {
   "cell_type": "markdown",
   "metadata": {
    "id": "h7D8d-J5cela"
   },
   "source": [
    "---"
   ]
  },
  {
   "cell_type": "code",
   "execution_count": 76,
   "metadata": {},
   "outputs": [
    {
     "name": "stdout",
     "output_type": "stream",
     "text": [
      "[[['i0j0k0' 'i0j0k1' 'i0j0k2' 'i0j0k3' 'i0j0k4' 'i0j0k5' 'i0j0k6' 'i0j0k7' 'i0j0k8' 'i0j0k9']\n",
      "  ['i0j1k0' 'i0j1k1' 'i0j1k2' 'i0j1k3' 'i0j1k4' 'i0j1k5' 'i0j1k6' 'i0j1k7' 'i0j1k8' 'i0j1k9']\n",
      "  ['i0j2k0' 'i0j2k1' 'i0j2k2' 'i0j2k3' 'i0j2k4' 'i0j2k5' 'i0j2k6' 'i0j2k7' 'i0j2k8' 'i0j2k9']\n",
      "  ['i0j3k0' 'i0j3k1' 'i0j3k2' 'i0j3k3' 'i0j3k4' 'i0j3k5' 'i0j3k6' 'i0j3k7' 'i0j3k8' 'i0j3k9']\n",
      "  ['i0j4k0' 'i0j4k1' 'i0j4k2' 'i0j4k3' 'i0j4k4' 'i0j4k5' 'i0j4k6' 'i0j4k7' 'i0j4k8' 'i0j4k9']\n",
      "  ['i0j5k0' 'i0j5k1' 'i0j5k2' 'i0j5k3' 'i0j5k4' 'i0j5k5' 'i0j5k6' 'i0j5k7' 'i0j5k8' 'i0j5k9']\n",
      "  ['i0j6k0' 'i0j6k1' 'i0j6k2' 'i0j6k3' 'i0j6k4' 'i0j6k5' 'i0j6k6' 'i0j6k7' 'i0j6k8' 'i0j6k9']\n",
      "  ['i0j7k0' 'i0j7k1' 'i0j7k2' 'i0j7k3' 'i0j7k4' 'i0j7k5' 'i0j7k6' 'i0j7k7' 'i0j7k8' 'i0j7k9']\n",
      "  ['i0j8k0' 'i0j8k1' 'i0j8k2' 'i0j8k3' 'i0j8k4' 'i0j8k5' 'i0j8k6' 'i0j8k7' 'i0j8k8' 'i0j8k9']\n",
      "  ['i0j9k0' 'i0j9k1' 'i0j9k2' 'i0j9k3' 'i0j9k4' 'i0j9k5' 'i0j9k6' 'i0j9k7' 'i0j9k8' 'i0j9k9']]\n",
      "\n",
      " [['i1j0k0' 'i1j0k1' 'i1j0k2' 'i1j0k3' 'i1j0k4' 'i1j0k5' 'i1j0k6' 'i1j0k7' 'i1j0k8' 'i1j0k9']\n",
      "  ['i1j1k0' 'i1j1k1' 'i1j1k2' 'i1j1k3' 'i1j1k4' 'i1j1k5' 'i1j1k6' 'i1j1k7' 'i1j1k8' 'i1j1k9']\n",
      "  ['i1j2k0' 'i1j2k1' 'i1j2k2' 'i1j2k3' 'i1j2k4' 'i1j2k5' 'i1j2k6' 'i1j2k7' 'i1j2k8' 'i1j2k9']\n",
      "  ['i1j3k0' 'i1j3k1' 'i1j3k2' 'i1j3k3' 'i1j3k4' 'i1j3k5' 'i1j3k6' 'i1j3k7' 'i1j3k8' 'i1j3k9']\n",
      "  ['i1j4k0' 'i1j4k1' 'i1j4k2' 'i1j4k3' 'i1j4k4' 'i1j4k5' 'i1j4k6' 'i1j4k7' 'i1j4k8' 'i1j4k9']\n",
      "  ['i1j5k0' 'i1j5k1' 'i1j5k2' 'i1j5k3' 'i1j5k4' 'i1j5k5' 'i1j5k6' 'i1j5k7' 'i1j5k8' 'i1j5k9']\n",
      "  ['i1j6k0' 'i1j6k1' 'i1j6k2' 'i1j6k3' 'i1j6k4' 'i1j6k5' 'i1j6k6' 'i1j6k7' 'i1j6k8' 'i1j6k9']\n",
      "  ['i1j7k0' 'i1j7k1' 'i1j7k2' 'i1j7k3' 'i1j7k4' 'i1j7k5' 'i1j7k6' 'i1j7k7' 'i1j7k8' 'i1j7k9']\n",
      "  ['i1j8k0' 'i1j8k1' 'i1j8k2' 'i1j8k3' 'i1j8k4' 'i1j8k5' 'i1j8k6' 'i1j8k7' 'i1j8k8' 'i1j8k9']\n",
      "  ['i1j9k0' 'i1j9k1' 'i1j9k2' 'i1j9k3' 'i1j9k4' 'i1j9k5' 'i1j9k6' 'i1j9k7' 'i1j9k8' 'i1j9k9']]]\n"
     ]
    }
   ],
   "source": [
    "np.set_printoptions(linewidth=200)\n",
    "# for sanity checks and guiding visuals - could insert is_even, is_prime functions inline\n",
    "# instead will aim to vectorize below\n",
    "# idx_labels = np.array([[\"text\"] * 10 ] * 10, dtype=object)\n",
    "idx_labels = np.full((10,10,10),\"text\", dtype=object)\n",
    "for i in range(10):\n",
    "    for j in range(10):\n",
    "        for k in range(10):\n",
    "            idx_labels[i,j,k] = f\"i{i}j{j}k{k}\"\n",
    "# or         \n",
    "# idx_labels = np.array([[f\"i{i}j{j}\" for j in range(10)] for i in range(10)], dtype=object)\n",
    "# readable? pythonic? which is best ...\n",
    "print(idx_labels[:2])"
   ]
  },
  {
   "cell_type": "code",
   "execution_count": 77,
   "metadata": {
    "id": "CWwTWfYCa4k0"
   },
   "outputs": [],
   "source": [
    "def is_even(n):\n",
    "    if n % 2 == 0:\n",
    "        return True\n",
    "    return False\n",
    "def is_prime(n):\n",
    "    if n <= 1:\n",
    "        return False\n",
    "    for i in range(2, int(n**0.5) + 1):\n",
    "        if n % i == 0:\n",
    "            return False\n",
    "    return True\n",
    "\n",
    "v_prime = np.vectorize(is_prime)\n",
    "v_even = np.vectorize(is_even)"
   ]
  },
  {
   "cell_type": "code",
   "execution_count": 74,
   "metadata": {},
   "outputs": [],
   "source": [
    "idxs = np.arange(10)\n",
    "ieven = np.broadcast_to( (v_even(idxs) * 1), (10,10,10) ).transpose(2,1,0)\n",
    "# print(ieven)\n",
    "jodd = np.broadcast_to( (~v_even(idxs) * 1), (10,10,10) ).transpose(1,2,0)\n",
    "# print(jodd)\n",
    "kprime = np.broadcast_to( (v_prime(idxs) * 1), (10,10,10) )#.transpose(2,1,0)\n",
    "# print(kprime)"
   ]
  },
  {
   "cell_type": "code",
   "execution_count": 95,
   "metadata": {},
   "outputs": [
    {
     "data": {
      "image/png": "[encoded data removed]",
      "text/plain": [
       "<Figure size 640x480 with 10 Axes>"
      ]
     },
     "metadata": {},
     "output_type": "display_data"
    }
   ],
   "source": [
    "chewy = ieven * jodd * kprime\n",
    "# print(chewy)\n",
    "\n",
    "import matplotlib.pyplot as plt\n",
    "fig, axs = plt.subplots(2,5)\n",
    "for r in range(2):\n",
    "    for c in range(5):\n",
    "        axs[r,c].imshow(chewy[r*5+c])\n",
    "        axs[r,c].axis('off')"
   ]
  },
  {
   "cell_type": "markdown",
   "metadata": {
    "id": "bF3kvEc4a4It"
   },
   "source": [
    "## [See our solution!](https://www.practiceprobs.com/problemsets/python-numpy/advanced/prime-locations/solution/)"
   ]
  }
 ],
 "metadata": {
  "colab": {
   "collapsed_sections": [],
   "name": "prime-locations.ipynb",
   "provenance": []
  },
  "kernelspec": {
   "display_name": "linusbio",
   "language": "python",
   "name": "python3"
  },
  "language_info": {
   "codemirror_mode": {
    "name": "ipython",
    "version": 3
   },
   "file_extension": ".py",
   "mimetype": "text/x-python",
   "name": "python",
   "nbconvert_exporter": "python",
   "pygments_lexer": "ipython3",
   "version": "3.11.11"
  }
 },
 "nbformat": 4,
 "nbformat_minor": 0
}
