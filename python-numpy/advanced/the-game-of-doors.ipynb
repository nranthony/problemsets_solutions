{
 "cells": [
  {
   "cell_type": "markdown",
   "metadata": {
    "id": "t1VEtnSjbu-d"
   },
   "source": [
    "[![PracticeProbs](https://d33wubrfki0l68.cloudfront.net/b6800cc830e3fd5a3a4c3d9cfb1137e6a4c15c77/ec467/assets/images/transparent-1.png)](https://www.practiceprobs.com/)"
   ]
  },
  {
   "cell_type": "markdown",
   "metadata": {
    "id": "M6yShpelZy-I"
   },
   "source": [
    "# [The Game Of Doors](https://www.practiceprobs.com/problemsets/python-numpy/advanced/the-game-of-doors/)\n",
    "\n",
    "You’re preparing for a game show where you play the following game.\n",
    "\n",
    "You’re faced with four doors \\[?\\] \\[?\\] \\[?\\] \\[?\\]  \n",
    "Behind one door is cash money 🤑  \n",
    "Behind the other three doors is steaming pile of broccoli 🥦  \n",
    "\n",
    "If you pick the door with money, you get the option to play again at the risk of losing the money you’ve collected thus far. If you keep winning, you can play a maximum of three rounds before the game show host kicks you off his show.\n",
    "\n",
    "You have some strategy ideas you’d like to evaluate before you go on the show. You hire an unpaid intern to scour through historic recordings of the show and log data on where prizes were located and the value of each prize.\n",
    "\n",
    "Your intern gets back to you with the following matrices:\n",
    "\n",
    "- `prize_doors`: Here, element (i,j) identifies the door hiding the prize in the ith game of round j\n",
    "- `prizes`: Here (i, j) gives the prize amount in the ith game of round j\n",
    "\n"
   ]
  },
  {
   "cell_type": "code",
   "execution_count": 1,
   "metadata": {
    "executionInfo": {
     "elapsed": 3,
     "status": "ok",
     "timestamp": 1650234001096,
     "user": {
      "displayName": "Ben Gorman",
      "userId": "14173905571034790649"
     },
     "user_tz": 300
    },
    "id": "ZlHN2R3QaPX3"
   },
   "outputs": [],
   "source": [
    "import numpy as np\n",
    "\n",
    "prize_doors = np.array([\n",
    "    [1, 0, 2],\n",
    "    [0, 0, 1],\n",
    "    [3, 3, 1],\n",
    "    [1, 2, 0],\n",
    "    [2, 1, 1]\n",
    "])\n",
    "\n",
    "prizes = np.array([\n",
    "    [100, 150, 500],\n",
    "    [200, 300, 250],\n",
    "    [150, 100, 325],\n",
    "    [425, 200, 100],\n",
    "    [200, 250, 300]\n",
    "])"
   ]
  },
  {
   "cell_type": "markdown",
   "metadata": {
    "id": "5bT2iej9nJSG"
   },
   "source": [
    "Build a 5x3x4 matrix where (i,j,k) represents the prize behind door k of round j of game i."
   ]
  },
  {
   "cell_type": "markdown",
   "metadata": {
    "id": "h7D8d-J5cela"
   },
   "source": [
    "---"
   ]
  },
  {
   "cell_type": "code",
   "execution_count": 2,
   "metadata": {
    "id": "CWwTWfYCa4k0"
   },
   "outputs": [],
   "source": [
    "door_prizes = np.zeros((5,3,4))"
   ]
  },
  {
   "cell_type": "code",
   "execution_count": 3,
   "metadata": {},
   "outputs": [],
   "source": [
    "for rj in range(3):\n",
    "    for gi in range(5):\n",
    "        door_prizes[gi, rj, prize_doors[gi, rj]] = prizes[gi, rj]"
   ]
  },
  {
   "cell_type": "code",
   "execution_count": 7,
   "metadata": {},
   "outputs": [
    {
     "name": "stdout",
     "output_type": "stream",
     "text": [
      "[[[  0. 100.   0.   0.]\n",
      "  [150.   0.   0.   0.]\n",
      "  [  0.   0. 500.   0.]]\n",
      "\n",
      " [[200.   0.   0.   0.]\n",
      "  [300.   0.   0.   0.]\n",
      "  [  0. 250.   0.   0.]]\n",
      "\n",
      " [[  0.   0.   0. 150.]\n",
      "  [  0.   0.   0. 100.]\n",
      "  [  0. 325.   0.   0.]]\n",
      "\n",
      " [[  0. 425.   0.   0.]\n",
      "  [  0.   0. 200.   0.]\n",
      "  [100.   0.   0.   0.]]\n",
      "\n",
      " [[  0.   0. 200.   0.]\n",
      "  [  0. 250.   0.   0.]\n",
      "  [  0. 300.   0.   0.]]]\n"
     ]
    }
   ],
   "source": [
    "print(door_prizes)"
   ]
  },
  {
   "cell_type": "markdown",
   "metadata": {
    "id": "bF3kvEc4a4It"
   },
   "source": [
    "## [See our solution!](https://www.practiceprobs.com/problemsets/python-numpy/advanced/the-game-of-doors/solution/)"
   ]
  }
 ],
 "metadata": {
  "colab": {
   "collapsed_sections": [],
   "name": "the-game-of-doors.ipynb",
   "provenance": []
  },
  "kernelspec": {
   "display_name": "linusbio",
   "language": "python",
   "name": "python3"
  },
  "language_info": {
   "codemirror_mode": {
    "name": "ipython",
    "version": 3
   },
   "file_extension": ".py",
   "mimetype": "text/x-python",
   "name": "python",
   "nbconvert_exporter": "python",
   "pygments_lexer": "ipython3",
   "version": "3.11.10"
  }
 },
 "nbformat": 4,
 "nbformat_minor": 0
}
