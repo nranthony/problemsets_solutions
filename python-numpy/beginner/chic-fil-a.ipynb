{
 "cells": [
  {
   "cell_type": "markdown",
   "metadata": {
    "id": "t1VEtnSjbu-d"
   },
   "source": [
    "[![PracticeProbs](https://d33wubrfki0l68.cloudfront.net/b6800cc830e3fd5a3a4c3d9cfb1137e6a4c15c77/ec467/assets/images/transparent-1.png)](https://www.practiceprobs.com/)"
   ]
  },
  {
   "cell_type": "markdown",
   "metadata": {
    "id": "M6yShpelZy-I"
   },
   "source": [
    "# [Chic-fil-A](https://www.practiceprobs.com/problemsets/python-numpy/beginner/chic-fil-a/)\n",
    "\n",
    "You decide to invest in a series of billboards along interstate 10 to advertise your stylish new chicken restaurant, Chic-fil-A 🐔.\n",
    "\n",
    "1. You buy three billboards evenly spaced starting from mile marker 17 and ending on mile marker 28.\n",
    "2. You buy another three billboards starting on mile marker 32 and ending on mile marker 36.\n",
    "3. In order, from mile marker 17 to 36, your billboards display these ads: A, B, C, C, B, A.\n",
    "\n",
    "Determine how far each B ad is from your restaurant which is located at mile marker 30.\n",
    "\n",
    "```\n",
    "# ads / restaurant*:   A     B     C   *   C  B  A\n",
    "# billboards:        --|-----|-----|---|---|--|--|--\n",
    "# mile markers:       17          28  30  32    36\n",
    "```"
   ]
  },
  {
   "cell_type": "code",
   "execution_count": 1,
   "metadata": {
    "executionInfo": {
     "elapsed": 3,
     "status": "ok",
     "timestamp": 1650231173086,
     "user": {
      "displayName": "Ben Gorman",
      "userId": "14173905571034790649"
     },
     "user_tz": 300
    },
    "id": "ZlHN2R3QaPX3"
   },
   "outputs": [],
   "source": [
    "import numpy as np"
   ]
  },
  {
   "cell_type": "markdown",
   "metadata": {
    "id": "h7D8d-J5cela"
   },
   "source": [
    "---"
   ]
  },
  {
   "cell_type": "code",
   "execution_count": 6,
   "metadata": {},
   "outputs": [
    {
     "name": "stdout",
     "output_type": "stream",
     "text": [
      "B billboard before restaurant: 7.5\n",
      "B billboard after restaurant: 4.0\n"
     ]
    }
   ],
   "source": [
    "def mm_delta(s, f, res):\n",
    "    return np.abs(np.linspace(s, f, 3)[1] - res)\n",
    "\n",
    "print(f\"B billboard before restaurant: {mm_delta(17,28,30)}\")\n",
    "print(f\"B billboard after restaurant: {mm_delta(32,36,30)}\")"
   ]
  },
  {
   "cell_type": "markdown",
   "metadata": {
    "id": "bF3kvEc4a4It"
   },
   "source": [
    "## [See our solution!](https://www.practiceprobs.com/problemsets/python-numpy/beginner/chic-fil-a/solution/)"
   ]
  }
 ],
 "metadata": {
  "colab": {
   "collapsed_sections": [],
   "name": "chic-fil-a.ipynb",
   "provenance": []
  },
  "kernelspec": {
   "display_name": "linusbio",
   "language": "python",
   "name": "python3"
  },
  "language_info": {
   "codemirror_mode": {
    "name": "ipython",
    "version": 3
   },
   "file_extension": ".py",
   "mimetype": "text/x-python",
   "name": "python",
   "nbconvert_exporter": "python",
   "pygments_lexer": "ipython3",
   "version": "3.11.11"
  }
 },
 "nbformat": 4,
 "nbformat_minor": 0
}
