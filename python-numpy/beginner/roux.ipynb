{
 "cells": [
  {
   "cell_type": "markdown",
   "metadata": {
    "id": "t1VEtnSjbu-d"
   },
   "source": [
    "[![PracticeProbs](https://d33wubrfki0l68.cloudfront.net/b6800cc830e3fd5a3a4c3d9cfb1137e6a4c15c77/ec467/assets/images/transparent-1.png)](https://www.practiceprobs.com/)"
   ]
  },
  {
   "cell_type": "markdown",
   "metadata": {
    "id": "M6yShpelZy-I"
   },
   "source": [
    "# [Roux](https://www.practiceprobs.com/problemsets/python-numpy/beginner/roux/)\n",
    "\n",
    "Define a *roux* array as a 1-D array such that, when it's reversed, it represents the sequence of square numbers 1, 4, 9, 16, ... with 0s interwoven between them.\n",
    "\n",
    "**Examples**  \n",
    "\n",
    "```\n",
    "# roux array of length 5\n",
    "[9 0 4 0 1]\n",
    "```\n",
    "\n",
    "```\n",
    "# roux array of length 8\n",
    "[ 0 16  0  9  0  4  0  1]\n",
    "```\n",
    "\n",
    "```\n",
    "# roux array of length 12\n",
    "[ 0 36  0 25  0 16  0  9  0  4  0  1]\n",
    "```\n",
    "\n",
    "**Note**: odd-length arrays begin with a square number while even-length arrays begin with a zero.\n",
    "\n",
    "Implement a function called `make_roux(n)` that inputs `n`, the desired size of the array, and outputs the corresponding roux array. Then test it on the examples above."
   ]
  },
  {
   "cell_type": "markdown",
   "metadata": {
    "id": "h7D8d-J5cela"
   },
   "source": [
    "---"
   ]
  },
  {
   "cell_type": "code",
   "execution_count": 9,
   "metadata": {},
   "outputs": [
    {
     "data": {
      "text/plain": [
       "array([1, 2, 3])"
      ]
     },
     "execution_count": 9,
     "metadata": {},
     "output_type": "execute_result"
    }
   ],
   "source": [
    "n = 5\n",
    "import numpy as np\n",
    "squares = np.array([i+1 for i in range(-(n//-2))]) # upside down floor division, i.e. ceil, ceil(5,2) = 3\n",
    "zeros = np.zeros((n//2))\n",
    "squares"
   ]
  },
  {
   "cell_type": "code",
   "execution_count": 10,
   "metadata": {},
   "outputs": [
    {
     "data": {
      "text/plain": [
       "array([9., 0., 4., 0., 1.])"
      ]
     },
     "execution_count": 10,
     "metadata": {},
     "output_type": "execute_result"
    }
   ],
   "source": [
    "roux = np.empty((squares.size + zeros.size))\n",
    "roux[0::2] = squares**2\n",
    "roux[1::2] = zeros\n",
    "roux[::-1]"
   ]
  },
  {
   "cell_type": "code",
   "execution_count": 13,
   "metadata": {
    "id": "CWwTWfYCa4k0"
   },
   "outputs": [
    {
     "name": "stdout",
     "output_type": "stream",
     "text": [
      "Roux array, n = 5: [9 0 4 0 1]\n",
      "Roux array, n = 8: [ 0 16  0  9  0  4  0  1]\n",
      "Roux array, n = 12: [ 0 36  0 25  0 16  0  9  0  4  0  1]\n"
     ]
    }
   ],
   "source": [
    "import numpy as np\n",
    "\n",
    "def make_roux(n):\n",
    "    \"\"\"returns a roux array of length n\"\"\"\n",
    "    squares = np.array([i+1 for i in range(-(n//-2))])\n",
    "    zeros = np.zeros((n//2))\n",
    "    roux = np.empty((squares.size + zeros.size))\n",
    "    roux[0::2] = squares**2\n",
    "    roux[1::2] = zeros\n",
    "    return roux[::-1].astype('int')\n",
    "\n",
    "for n in [5,8,12]:\n",
    "    print(f\"Roux array, n = {n}: {make_roux(n)}\")"
   ]
  },
  {
   "cell_type": "markdown",
   "metadata": {
    "id": "bF3kvEc4a4It"
   },
   "source": [
    "## [See our solution!](https://www.practiceprobs.com/problemsets/python-numpy/beginner/roux/solution/)"
   ]
  }
 ],
 "metadata": {
  "colab": {
   "collapsed_sections": [],
   "name": "roux.ipynb",
   "provenance": []
  },
  "kernelspec": {
   "display_name": "linusbio",
   "language": "python",
   "name": "python3"
  },
  "language_info": {
   "codemirror_mode": {
    "name": "ipython",
    "version": 3
   },
   "file_extension": ".py",
   "mimetype": "text/x-python",
   "name": "python",
   "nbconvert_exporter": "python",
   "pygments_lexer": "ipython3",
   "version": "3.11.11"
  }
 },
 "nbformat": 4,
 "nbformat_minor": 0
}
