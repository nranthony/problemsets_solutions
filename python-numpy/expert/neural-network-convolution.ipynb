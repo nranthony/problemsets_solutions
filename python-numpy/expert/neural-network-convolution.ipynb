{
 "cells": [
  {
   "cell_type": "markdown",
   "metadata": {
    "id": "t1VEtnSjbu-d"
   },
   "source": [
    "[![PracticeProbs](https://d33wubrfki0l68.cloudfront.net/b6800cc830e3fd5a3a4c3d9cfb1137e6a4c15c77/ec467/assets/images/transparent-1.png)](https://www.practiceprobs.com/)"
   ]
  },
  {
   "cell_type": "markdown",
   "metadata": {
    "id": "M6yShpelZy-I"
   },
   "source": [
    "# [Neural Network Convolution](https://www.practiceprobs.com/problemsets/python-numpy/expert/neural-network-convolution/)\n",
    "\n",
    "Suppose you have a 2-D array, `arr`,"
   ]
  },
  {
   "cell_type": "code",
   "execution_count": 1,
   "metadata": {
    "id": "ZlHN2R3QaPX3"
   },
   "outputs": [],
   "source": [
    "import numpy as np\n",
    "\n",
    "arr = np.array([\n",
    "    [0.15, 0.71, 0.26, -0.11, -2.03],\n",
    "    [0.13, 0.44, -0.11, -0.23, 0.19],\n",
    "    [-1.44, 0.51, 0.42, 2.58, -0.88],\n",
    "    [-1.18, 2.73, 2.35, 0.21, -0.29],\n",
    "    [-1.64, -0.37, 0.27, 0.57, 1.82]\n",
    "])"
   ]
  },
  {
   "cell_type": "markdown",
   "metadata": {
    "id": "vOLTbQVgoBdb"
   },
   "source": [
    "and another, smaller 2-D array, `filter`,"
   ]
  },
  {
   "cell_type": "code",
   "execution_count": 2,
   "metadata": {
    "id": "aLWnJE9mESNR"
   },
   "outputs": [],
   "source": [
    "filter = np.array([\n",
    "    [0.08, 0.27, -0.24],\n",
    "    [-0.25, -0.11, -0.18],\n",
    "    [0.44, 1.87, 1.18]\n",
    "])"
   ]
  },
  {
   "cell_type": "markdown",
   "metadata": {
    "id": "uv7XnieqEULz"
   },
   "source": [
    "In the context of neural networks, a convolution works by \"sliding\" `filter` over `arr` in row major order (left to right, top to bottom), taking the dot product between `filter` and the portion of `arr` it covers at each step.\n",
    "\n",
    "![](https://www.practiceprobs.com/problemsets/python-numpy/images/convolution.gif)\n",
    "\n",
    "The result of all these dot products is the following 3x3 array.\n",
    "\n",
    "```\n",
    "[[ 0.9   4.15  4.47]\n",
    " [ 7.74  5.27  0.74]\n",
    " [-1.6  -0.43  3.72]]\n",
    "```"
   ]
  },
  {
   "cell_type": "code",
   "execution_count": 3,
   "metadata": {},
   "outputs": [
    {
     "name": "stdout",
     "output_type": "stream",
     "text": [
      "[[ 0.9   4.15  4.47]\n",
      " [ 7.74  5.27  0.74]\n",
      " [-1.6  -0.43  3.72]]\n"
     ]
    }
   ],
   "source": [
    "# cross check above for 2D pre-sanity check\n",
    "# using loops:\n",
    "i_steps = arr.shape[0] - filter.shape[0] + 1\n",
    "j_steps = arr.shape[1] - filter.shape[1] + 1\n",
    "conv = np.zeros((i_steps,j_steps))\n",
    "\n",
    "for istep in range(i_steps):\n",
    "    for jstep in range(j_steps):\n",
    "        # create dot product\n",
    "        recp_field = arr[istep:istep+filter.shape[0],\n",
    "                         jstep:jstep+filter.shape[1]]\n",
    "        conv[istep,jstep] = np.sum(recp_field * filter)\n",
    "print(np.round(conv,2))"
   ]
  },
  {
   "cell_type": "code",
   "execution_count": 4,
   "metadata": {},
   "outputs": [
    {
     "name": "stdout",
     "output_type": "stream",
     "text": [
      "[[ 0.9   4.15  4.47]\n",
      " [ 7.74  5.27  0.74]\n",
      " [-1.6  -0.43  3.72]]\n"
     ]
    }
   ],
   "source": [
    "# using sliding windows:\n",
    "from numpy.lib.stride_tricks import sliding_window_view\n",
    "\n",
    "recp_field = sliding_window_view(arr, window_shape=filter.shape)\n",
    "conv = np.einsum('ij,ijkl->kl', filter, recp_field)\n",
    "print(np.round(conv,2))\n"
   ]
  },
  {
   "cell_type": "markdown",
   "metadata": {
    "id": "hRTmpIMgElLz"
   },
   "source": [
    "Now suppose `arr` is the following 33x33x3 array."
   ]
  },
  {
   "cell_type": "code",
   "execution_count": 5,
   "metadata": {
    "id": "ViwroV9pEn3b"
   },
   "outputs": [
    {
     "name": "stdout",
     "output_type": "stream",
     "text": [
      "[[[-0.99 -0.37  1.29]\n",
      "  [ 0.19  0.92  0.58]\n",
      "  [-0.64  0.54 -0.32]\n",
      "  ...\n",
      "  [ 1.23  0.15  0.48]\n",
      "  [-0.15  1.32 -1.22]\n",
      "  [-0.3  -1.17  0.83]]\n",
      "\n",
      " [[ 0.85 -0.52  1.66]\n",
      "  [-0.3  -1.38 -0.28]\n",
      "  [ 0.36 -0.23  2.27]\n",
      "  ...\n",
      "  [ 1.52  0.49  0.7 ]\n",
      "  [ 0.85 -0.91  0.12]\n",
      "  [ 0.15 -0.16 -1.09]]\n",
      "\n",
      " [[ 0.46 -1.66 -0.94]\n",
      "  [-0.81 -0.41  0.84]\n",
      "  [ 1.66  1.72  0.81]\n",
      "  ...\n",
      "  [-1.05  0.72 -0.9 ]\n",
      "  [ 0.98  0.43  0.11]\n",
      "  [-0.76  0.9   0.5 ]]\n",
      "\n",
      " ...\n",
      "\n",
      " [[-0.31 -0.05 -1.8 ]\n",
      "  [-0.72  0.9   1.1 ]\n",
      "  [ 0.92  1.25 -0.23]\n",
      "  ...\n",
      "  [ 1.25 -0.22 -0.19]\n",
      "  [-0.76  1.64  1.18]\n",
      "  [-0.99 -0.09  1.34]]\n",
      "\n",
      " [[-0.38 -0.45  1.  ]\n",
      "  [-0.58  2.18  0.36]\n",
      "  [-0.44 -2.77  0.82]\n",
      "  ...\n",
      "  [-1.58 -0.5  -0.52]\n",
      "  [-0.86 -0.54 -0.26]\n",
      "  [ 0.23  0.81 -0.4 ]]\n",
      "\n",
      " [[-1.98 -0.22 -0.79]\n",
      "  [-0.01 -1.47 -0.83]\n",
      "  [-0.87  0.3  -0.82]\n",
      "  ...\n",
      "  [ 1.42  0.7  -0.75]\n",
      "  [-0.81  1.68 -0.82]\n",
      "  [-0.93  0.28 -1.61]]]\n"
     ]
    }
   ],
   "source": [
    "import numpy as np\n",
    "np.printoptions(width=100)\n",
    "rng = np.random.default_rng(123)\n",
    "arr = rng.normal(size=(33,33,3)).round(2)\n",
    "\n",
    "print(arr)\n",
    "# [\n",
    "#     [[-0.99 -0.37  1.29]\n",
    "#      [ 0.19  0.92  0.58]\n",
    "#      [-0.64  0.54 -0.32]\n",
    "#      ...\n",
    "#      [ 1.23  0.15  0.48]\n",
    "#      [-0.15  1.32 -1.22]\n",
    "#      [-0.3  -1.17  0.83]]\n",
    "# \n",
    "#     [[ 0.85 -0.52  1.66]\n",
    "#      [-0.3  -1.38 -0.28]\n",
    "#      [ 0.36 -0.23  2.27]\n",
    "#      ...\n",
    "#      [ 1.52  0.49  0.7 ]\n",
    "#      [ 0.85 -0.91  0.12]\n",
    "#      [ 0.15 -0.16 -1.09]]\n",
    "# \n",
    "#     ...\n",
    "# \n",
    "#     [[-0.38 -0.45  1.  ]\n",
    "#      [-0.58  2.18  0.36]\n",
    "#      [-0.44 -2.77  0.82]\n",
    "#      ...\n",
    "#      [-1.58 -0.5  -0.52]\n",
    "#      [-0.86 -0.54 -0.26]\n",
    "#      [ 0.23  0.81 -0.4 ]]\n",
    "# \n",
    "#     [[-1.98 -0.22 -0.79]\n",
    "#      [-0.01 -1.47 -0.83]\n",
    "#      [-0.87  0.3  -0.82]\n",
    "#      ...\n",
    "#      [ 1.42  0.7  -0.75]\n",
    "#      [-0.81  1.68 -0.82]\n",
    "#      [-0.93  0.28 -1.61]]\n",
    "# ]"
   ]
  },
  {
   "cell_type": "markdown",
   "metadata": {
    "id": "hbM0MEfxEqAq"
   },
   "source": [
    "And let `filter` be the following 5x5x3 array."
   ]
  },
  {
   "cell_type": "code",
   "execution_count": 6,
   "metadata": {
    "id": "v6NW4AcMEtVb"
   },
   "outputs": [
    {
     "name": "stdout",
     "output_type": "stream",
     "text": [
      "[[[-1.47  0.74  0.58]\n",
      "  [ 0.46  2.37  0.79]\n",
      "  [ 1.15 -1.11 -0.29]\n",
      "  [-0.98  0.29  0.44]\n",
      "  [-0.44 -0.03  0.69]]\n",
      "\n",
      " [[ 0.34  0.67 -0.11]\n",
      "  [-0.71 -1.   -0.88]\n",
      "  [ 0.61  0.49 -0.27]\n",
      "  [ 0.12 -1.56  0.11]\n",
      "  [ 0.32 -0.98  0.46]]\n",
      "\n",
      " [[-1.03  0.58  0.08]\n",
      "  [ 0.89  0.86  1.49]\n",
      "  [-0.4   0.86 -0.29]\n",
      "  [ 0.07 -0.09 -0.87]\n",
      "  [ 0.2   1.22 -0.27]]\n",
      "\n",
      " [[ 1.1  -2.61  1.64]\n",
      "  [-1.15  0.47  1.44]\n",
      "  [-1.45  0.39  1.37]\n",
      "  [ 0.13 -0.1   0.04]\n",
      "  [ 0.27  0.57  0.57]]\n",
      "\n",
      " [[-0.61 -0.41  0.93]\n",
      "  [ 1.47 -0.07 -0.29]\n",
      "  [ 0.49  1.02  0.2 ]\n",
      "  [ 0.16  0.95  0.52]\n",
      "  [ 1.11  0.13 -0.17]]]\n"
     ]
    }
   ],
   "source": [
    "filter = rng.normal(size=(5,5,3)).round(2)\n",
    "\n",
    "print(filter)\n",
    "# [\n",
    "#     [[-1.47  0.74  0.58]\n",
    "#      [ 0.46  2.37  0.79]\n",
    "#      [ 1.15 -1.11 -0.29]\n",
    "#      [-0.98  0.29  0.44]\n",
    "#      [-0.44 -0.03  0.69]]\n",
    "# \n",
    "#     [[ 0.34  0.67 -0.11]\n",
    "#      [-0.71 -1.   -0.88]\n",
    "#      [ 0.61  0.49 -0.27]\n",
    "#      [ 0.12 -1.56  0.11]\n",
    "#      [ 0.32 -0.98  0.46]]\n",
    "# \n",
    "#     [[-1.03  0.58  0.08]\n",
    "#      [ 0.89  0.86  1.49]\n",
    "#      [-0.4   0.86 -0.29]\n",
    "#      [ 0.07 -0.09 -0.87]\n",
    "#      [ 0.2   1.22 -0.27]]\n",
    "# \n",
    "#     [[ 1.1  -2.61  1.64]\n",
    "#      [-1.15  0.47  1.44]\n",
    "#      [-1.45  0.39  1.37]\n",
    "#      [ 0.13 -0.1   0.04]\n",
    "#      [ 0.27  0.57  0.57]]\n",
    "# \n",
    "#     [[-0.61 -0.41  0.93]\n",
    "#      [ 1.47 -0.07 -0.29]\n",
    "#      [ 0.49  1.02  0.2 ]\n",
    "#      [ 0.16  0.95  0.52]\n",
    "#      [ 1.11  0.13 -0.17]]\n",
    "# ]"
   ]
  },
  {
   "cell_type": "markdown",
   "metadata": {
    "id": "hrIJcbGzEvpl"
   },
   "source": [
    "Using strides of length two, calculate the convolution between these arrays. (The result should have shape 15x15.)"
   ]
  },
  {
   "cell_type": "markdown",
   "metadata": {
    "id": "h7D8d-J5cela"
   },
   "source": [
    "---"
   ]
  },
  {
   "cell_type": "code",
   "execution_count": 11,
   "metadata": {
    "id": "CWwTWfYCa4k0"
   },
   "outputs": [
    {
     "name": "stdout",
     "output_type": "stream",
     "text": [
      "(5, 5, 3, 29, 29, 1)\n",
      "(5, 5, 3, 15, 15, 1)\n"
     ]
    }
   ],
   "source": [
    "from numpy.lib.stride_tricks import sliding_window_view\n",
    "import numpy as np\n",
    "\n",
    "all_recp_fields = sliding_window_view(arr, filter.shape).transpose(3,4,5,0,1,2)\n",
    "print(all_recp_fields.shape)\n",
    "strided_recp_fields = all_recp_fields[:,:,:,::2,::2]\n",
    "print(strided_recp_fields.shape)"
   ]
  },
  {
   "cell_type": "code",
   "execution_count": 12,
   "metadata": {},
   "outputs": [
    {
     "name": "stdout",
     "output_type": "stream",
     "text": [
      "[[[  1.64]\n",
      "  [ -3.22]\n",
      "  [ -2.44]\n",
      "  [  5.48]\n",
      "  [  5.06]\n",
      "  [-11.43]\n",
      "  [ -0.57]\n",
      "  [  3.01]\n",
      "  [  3.34]\n",
      "  [ -0.11]\n",
      "  [  9.81]\n",
      "  [-18.71]\n",
      "  [ -5.59]\n",
      "  [ -1.31]\n",
      "  [ 11.43]]\n",
      "\n",
      " [[ -3.73]\n",
      "  [ -3.17]\n",
      "  [  3.46]\n",
      "  [  6.59]\n",
      "  [  3.09]\n",
      "  [ -9.52]\n",
      "  [ -5.96]\n",
      "  [-17.02]\n",
      "  [ -0.74]\n",
      "  [  5.25]\n",
      "  [ -5.24]\n",
      "  [  0.94]\n",
      "  [  5.98]\n",
      "  [ -1.81]\n",
      "  [ -9.84]]\n",
      "\n",
      " [[  6.67]\n",
      "  [  5.45]\n",
      "  [ -4.09]\n",
      "  [ -7.73]\n",
      "  [  0.46]\n",
      "  [  7.22]\n",
      "  [-13.19]\n",
      "  [ -0.37]\n",
      "  [ -4.16]\n",
      "  [  1.67]\n",
      "  [  5.93]\n",
      "  [-11.28]\n",
      "  [  3.95]\n",
      "  [ -0.6 ]\n",
      "  [ -0.14]]\n",
      "\n",
      " [[ -3.19]\n",
      "  [ 10.18]\n",
      "  [ -3.74]\n",
      "  [ -1.82]\n",
      "  [  5.39]\n",
      "  [-11.1 ]\n",
      "  [  7.43]\n",
      "  [ 11.05]\n",
      "  [ -9.48]\n",
      "  [  7.  ]\n",
      "  [ -6.42]\n",
      "  [  2.44]\n",
      "  [ -0.26]\n",
      "  [  3.53]\n",
      "  [ -2.11]]\n",
      "\n",
      " [[ -1.98]\n",
      "  [ -4.43]\n",
      "  [ 16.15]\n",
      "  [  3.77]\n",
      "  [ -2.17]\n",
      "  [ 15.87]\n",
      "  [ -8.11]\n",
      "  [  3.58]\n",
      "  [ 13.89]\n",
      "  [ -2.95]\n",
      "  [ -2.35]\n",
      "  [  8.32]\n",
      "  [-13.12]\n",
      "  [  7.73]\n",
      "  [  5.64]]\n",
      "\n",
      " [[ -8.34]\n",
      "  [ -3.22]\n",
      "  [ -5.11]\n",
      "  [-11.67]\n",
      "  [-12.48]\n",
      "  [ 17.3 ]\n",
      "  [  5.72]\n",
      "  [ -1.  ]\n",
      "  [  5.57]\n",
      "  [  2.17]\n",
      "  [ -9.02]\n",
      "  [ -6.24]\n",
      "  [ -0.12]\n",
      "  [  9.1 ]\n",
      "  [ -1.49]]\n",
      "\n",
      " [[ 17.94]\n",
      "  [  3.93]\n",
      "  [ -1.75]\n",
      "  [ 11.83]\n",
      "  [  5.34]\n",
      "  [ -9.56]\n",
      "  [ -3.7 ]\n",
      "  [ 11.27]\n",
      "  [  9.88]\n",
      "  [  3.81]\n",
      "  [ -0.2 ]\n",
      "  [ -0.9 ]\n",
      "  [  3.22]\n",
      "  [-11.93]\n",
      "  [  6.54]]\n",
      "\n",
      " [[  5.21]\n",
      "  [ -5.08]\n",
      "  [-17.28]\n",
      "  [  9.55]\n",
      "  [-13.13]\n",
      "  [ -5.38]\n",
      "  [ 16.42]\n",
      "  [  4.25]\n",
      "  [ -0.42]\n",
      "  [-17.9 ]\n",
      "  [ -8.09]\n",
      "  [  0.44]\n",
      "  [ -3.43]\n",
      "  [ 12.54]\n",
      "  [  3.27]]\n",
      "\n",
      " [[ 13.06]\n",
      "  [  4.45]\n",
      "  [  4.34]\n",
      "  [  8.64]\n",
      "  [ -4.86]\n",
      "  [ -8.74]\n",
      "  [  5.91]\n",
      "  [  6.88]\n",
      "  [ 11.97]\n",
      "  [ 15.31]\n",
      "  [-12.55]\n",
      "  [ -3.26]\n",
      "  [  0.82]\n",
      "  [ -0.69]\n",
      "  [  3.82]]\n",
      "\n",
      " [[ 12.86]\n",
      "  [ 11.44]\n",
      "  [ -7.12]\n",
      "  [  3.97]\n",
      "  [ -2.65]\n",
      "  [ -5.64]\n",
      "  [  1.49]\n",
      "  [ -1.23]\n",
      "  [  0.91]\n",
      "  [ 14.59]\n",
      "  [ -2.96]\n",
      "  [ -9.01]\n",
      "  [  2.69]\n",
      "  [  5.06]\n",
      "  [ -6.66]]\n",
      "\n",
      " [[  9.63]\n",
      "  [ -5.35]\n",
      "  [ -4.62]\n",
      "  [-16.57]\n",
      "  [ 11.76]\n",
      "  [ -2.86]\n",
      "  [ -3.93]\n",
      "  [ -3.49]\n",
      "  [-10.12]\n",
      "  [ -6.1 ]\n",
      "  [ -8.08]\n",
      "  [ -8.38]\n",
      "  [  0.27]\n",
      "  [  2.09]\n",
      "  [ -5.32]]\n",
      "\n",
      " [[  1.63]\n",
      "  [ -2.25]\n",
      "  [ -1.7 ]\n",
      "  [ 11.79]\n",
      "  [ 18.54]\n",
      "  [ -2.04]\n",
      "  [  4.89]\n",
      "  [  8.15]\n",
      "  [ -6.59]\n",
      "  [ -2.36]\n",
      "  [-15.85]\n",
      "  [  3.67]\n",
      "  [-14.43]\n",
      "  [  1.2 ]\n",
      "  [  1.18]]\n",
      "\n",
      " [[ 16.92]\n",
      "  [  1.51]\n",
      "  [-11.05]\n",
      "  [  4.55]\n",
      "  [  7.48]\n",
      "  [  3.35]\n",
      "  [ -1.06]\n",
      "  [ -0.91]\n",
      "  [  4.3 ]\n",
      "  [ -2.41]\n",
      "  [ -5.11]\n",
      "  [  2.07]\n",
      "  [ -0.69]\n",
      "  [ 14.45]\n",
      "  [ -2.16]]\n",
      "\n",
      " [[ -9.01]\n",
      "  [ -1.19]\n",
      "  [ -4.83]\n",
      "  [ -2.07]\n",
      "  [  4.37]\n",
      "  [  2.84]\n",
      "  [  5.18]\n",
      "  [ 14.11]\n",
      "  [-11.83]\n",
      "  [  3.44]\n",
      "  [  0.95]\n",
      "  [ 12.47]\n",
      "  [  6.47]\n",
      "  [ -0.65]\n",
      "  [ -7.8 ]]\n",
      "\n",
      " [[  2.3 ]\n",
      "  [ 10.05]\n",
      "  [ 11.7 ]\n",
      "  [ -3.12]\n",
      "  [ -0.77]\n",
      "  [-11.83]\n",
      "  [ 10.39]\n",
      "  [ -8.41]\n",
      "  [-11.64]\n",
      "  [  2.95]\n",
      "  [ -4.26]\n",
      "  [  2.13]\n",
      "  [  6.6 ]\n",
      "  [  2.8 ]\n",
      "  [ -1.17]]]\n"
     ]
    }
   ],
   "source": [
    "conv = np.einsum('ijk,ijkpqr->pqr', filter, strided_recp_fields)\n",
    "print(np.round(conv,2))"
   ]
  },
  {
   "cell_type": "code",
   "execution_count": 15,
   "metadata": {},
   "outputs": [
    {
     "name": "stdout",
     "output_type": "stream",
     "text": [
      "[[ 0.]\n",
      " [-0.]\n",
      " [ 0.]\n",
      " [-0.]\n",
      " [-0.]\n",
      " [ 0.]\n",
      " [ 0.]\n",
      " [ 0.]\n",
      " [ 0.]\n",
      " [ 0.]\n",
      " [-0.]\n",
      " [ 0.]\n",
      " [-0.]\n",
      " [ 0.]\n",
      " [-0.]]\n"
     ]
    }
   ],
   "source": [
    "# given einsum, and potential for axes mix ups, I repeat the slow loop method\n",
    "i_steps = arr.shape[0] - filter.shape[0] + 1\n",
    "j_steps = arr.shape[1] - filter.shape[1] + 1\n",
    "k_steps = arr.shape[2] - filter.shape[2] + 1\n",
    "conv_chk = np.zeros((i_steps,j_steps,k_steps))\n",
    "\n",
    "for istep in range(i_steps):\n",
    "    for jstep in range(j_steps):\n",
    "        for kstep in range(k_steps):\n",
    "                \n",
    "            # create dot product\n",
    "            recp_field = arr[istep:istep+filter.shape[0],\n",
    "                            jstep:jstep+filter.shape[1],\n",
    "                            kstep:kstep+filter.shape[2]]\n",
    "            conv_chk[istep,jstep,kstep] = np.sum(recp_field * filter)\n",
    "print(np.round(\n",
    "    conv_chk[::2,::2,::2][0] - conv[0]\n",
    "    ,2)) # lazy stride step post calculation; diff equals zero, check :)"
   ]
  },
  {
   "cell_type": "markdown",
   "metadata": {
    "id": "bF3kvEc4a4It"
   },
   "source": [
    "## [See our solution!](https://www.practiceprobs.com/problemsets/python-numpy/expert/neural-network-convolution/solution/)"
   ]
  }
 ],
 "metadata": {
  "colab": {
   "collapsed_sections": [],
   "name": "neural-network-convolution.ipynb",
   "provenance": []
  },
  "kernelspec": {
   "display_name": "linusbio",
   "language": "python",
   "name": "python3"
  },
  "language_info": {
   "codemirror_mode": {
    "name": "ipython",
    "version": 3
   },
   "file_extension": ".py",
   "mimetype": "text/x-python",
   "name": "python",
   "nbconvert_exporter": "python",
   "pygments_lexer": "ipython3",
   "version": "3.11.10"
  }
 },
 "nbformat": 4,
 "nbformat_minor": 0
}
