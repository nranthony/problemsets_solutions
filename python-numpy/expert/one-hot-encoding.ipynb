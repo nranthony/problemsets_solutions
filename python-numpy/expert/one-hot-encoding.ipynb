{
 "cells": [
  {
   "cell_type": "markdown",
   "metadata": {
    "id": "t1VEtnSjbu-d"
   },
   "source": [
    "[![PracticeProbs](https://d33wubrfki0l68.cloudfront.net/b6800cc830e3fd5a3a4c3d9cfb1137e6a4c15c77/ec467/assets/images/transparent-1.png)](https://www.practiceprobs.com/)"
   ]
  },
  {
   "cell_type": "markdown",
   "metadata": {
    "id": "M6yShpelZy-I"
   },
   "source": [
    "# [One-Hot-Encoding](https://www.practiceprobs.com/problemsets/python-numpy/expert/one-hot-encoding/)\n",
    "\n",
    "Given a 1-D array of integers, [one-hot-encode](https://en.wikipedia.org/wiki/One-hot#Machine_learning_and_statistics) it into a 2-D array. In other words, convert this 1-D array called `yoyoyo`,"
   ]
  },
  {
   "cell_type": "code",
   "execution_count": 3,
   "metadata": {
    "id": "ZlHN2R3QaPX3"
   },
   "outputs": [],
   "source": [
    "import numpy as np\n",
    "yoyoyo = np.array([3, 1, 0, 1])"
   ]
  },
  {
   "cell_type": "markdown",
   "metadata": {
    "id": "vOLTbQVgoBdb"
   },
   "source": [
    "into a 2-D array like this.\n",
    "\n",
    "```\n",
    "# [[0. 0. 0. 1.]\n",
    "#  [0. 1. 0. 0.]\n",
    "#  [1. 0. 0. 0.]\n",
    "#  [0. 1. 0. 0.]]\n",
    "```"
   ]
  },
  {
   "cell_type": "markdown",
   "metadata": {
    "id": "h7D8d-J5cela"
   },
   "source": [
    "---"
   ]
  },
  {
   "cell_type": "code",
   "execution_count": 7,
   "metadata": {
    "id": "CWwTWfYCa4k0"
   },
   "outputs": [
    {
     "name": "stdout",
     "output_type": "stream",
     "text": [
      "[[0. 0. 0. 1.]\n",
      " [0. 1. 0. 0.]\n",
      " [1. 0. 0. 0.]\n",
      " [0. 1. 0. 0.]]\n"
     ]
    }
   ],
   "source": [
    "ohe = np.zeros((len(yoyoyo),np.max(yoyoyo)+1))\n",
    "for i, yo in enumerate(yoyoyo):\n",
    "    ohe[i,yo] = 1\n",
    "print(ohe)"
   ]
  },
  {
   "cell_type": "markdown",
   "metadata": {
    "id": "bF3kvEc4a4It"
   },
   "source": [
    "## [See our solution!](https://www.practiceprobs.com/problemsets/python-numpy/expert/one-hot-encoding/solution/)"
   ]
  }
 ],
 "metadata": {
  "colab": {
   "collapsed_sections": [],
   "name": "one-hot-encoding.ipynb",
   "provenance": []
  },
  "kernelspec": {
   "display_name": "linusbio",
   "language": "python",
   "name": "python3"
  },
  "language_info": {
   "codemirror_mode": {
    "name": "ipython",
    "version": 3
   },
   "file_extension": ".py",
   "mimetype": "text/x-python",
   "name": "python",
   "nbconvert_exporter": "python",
   "pygments_lexer": "ipython3",
   "version": "3.11.10"
  }
 },
 "nbformat": 4,
 "nbformat_minor": 0
}
