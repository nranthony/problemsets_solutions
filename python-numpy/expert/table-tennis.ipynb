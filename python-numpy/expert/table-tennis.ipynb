{
 "cells": [
  {
   "cell_type": "markdown",
   "metadata": {
    "id": "t1VEtnSjbu-d"
   },
   "source": [
    "[![PracticeProbs](https://d33wubrfki0l68.cloudfront.net/b6800cc830e3fd5a3a4c3d9cfb1137e6a4c15c77/ec467/assets/images/transparent-1.png)](https://www.practiceprobs.com/)"
   ]
  },
  {
   "cell_type": "markdown",
   "metadata": {
    "id": "M6yShpelZy-I"
   },
   "source": [
    "# [Table Tennis](https://www.practiceprobs.com/problemsets/python-numpy/expert/table-tennis/)\n",
    "\n",
    "You manage a recreational table tennis league. There are 10 participants, and in an effort to make the first round of matchups as exciting as possible, you develop a model that predicts the score difference for every possible pair of players. That is, you produce a 10x10 matrix where (i,j) represents your prediction for player i’s score minus player j’s score if they were to compete."
   ]
  },
  {
   "cell_type": "code",
   "execution_count": 1,
   "metadata": {
    "id": "ZlHN2R3QaPX3"
   },
   "outputs": [
    {
     "name": "stdout",
     "output_type": "stream",
     "text": [
      "[[   nan  -6.91 -13.77 -14.5    9.4   12.38   3.2    6.88   1.31  13.05]\n",
      " [  6.91    nan  10.72 -13.99   6.89  -9.73  10.9    1.24  -6.01  -2.32]\n",
      " [ 13.77 -10.72    nan   4.42   3.46  -3.49  14.92  14.43   5.57   4.51]\n",
      " [ 14.5   13.99  -4.42    nan   0.76  -5.69  -0.42  11.68  13.02  -4.27]\n",
      " [ -9.4   -6.89  -3.46  -0.76    nan  11.71  -8.19   3.7  -12.48   9.98]\n",
      " [-12.38   9.73   3.49   5.69 -11.71    nan  -1.49   8.89  -8.08 -13.44]\n",
      " [ -3.2  -10.9  -14.92   0.42   8.19   1.49    nan  13.26  -4.05 -11.84]\n",
      " [ -6.88  -1.24 -14.43 -11.68  -3.7   -8.89 -13.26    nan  13.47  -1.2 ]\n",
      " [ -1.31   6.01  -5.57 -13.02  12.48   8.08   4.05 -13.47    nan   6.87]\n",
      " [-13.05   2.32  -4.51   4.27  -9.98  13.44  11.84   1.2   -6.87    nan]]\n"
     ]
    }
   ],
   "source": [
    "import numpy as np\n",
    "\n",
    "generator = np.random.default_rng(0)\n",
    "score_diffs = np.round(generator.uniform(low=-15, high=15, size=(10,10)), 2)\n",
    "np.fill_diagonal(score_diffs, np.nan)\n",
    "score_diffs[np.triu_indices(10, k=1)[::-1]] = -score_diffs[np.triu_indices(10, k=1)]\n",
    "\n",
    "print(score_diffs)\n",
    "# [[   nan  -6.91 -13.77 -14.5    9.4   12.38   3.2    6.88   1.31  13.05]\n",
    "#  [  6.91    nan  10.72 -13.99   6.89  -9.73  10.9    1.24  -6.01  -2.32]\n",
    "#  [ 13.77 -10.72    nan   4.42   3.46  -3.49  14.92  14.43   5.57   4.51]\n",
    "#  [ 14.5   13.99  -4.42    nan   0.76  -5.69  -0.42  11.68  13.02  -4.27]\n",
    "#  [ -9.4   -6.89  -3.46  -0.76    nan  11.71  -8.19   3.7  -12.48   9.98]\n",
    "#  [-12.38   9.73   3.49   5.69 -11.71    nan  -1.49   8.89  -8.08 -13.44]\n",
    "#  [ -3.2  -10.9  -14.92   0.42   8.19   1.49    nan  13.26  -4.05 -11.84]\n",
    "#  [ -6.88  -1.24 -14.43 -11.68  -3.7   -8.89 -13.26    nan  13.47  -1.2 ]\n",
    "#  [ -1.31   6.01  -5.57 -13.02  12.48   8.08   4.05 -13.47    nan   6.87]\n",
    "#  [-13.05   2.32  -4.51   4.27  -9.98  13.44  11.84   1.2   -6.87    nan]]"
   ]
  },
  {
   "cell_type": "markdown",
   "metadata": {
    "id": "vOLTbQVgoBdb"
   },
   "source": [
    "Given this matrix, determine the “best” schedule for round one - the schedule whose matchups minimize the sum of squared point differentials."
   ]
  },
  {
   "cell_type": "markdown",
   "metadata": {
    "id": "h7D8d-J5cela"
   },
   "source": [
    "---"
   ]
  },
  {
   "cell_type": "code",
   "execution_count": 2,
   "metadata": {
    "id": "CWwTWfYCa4k0"
   },
   "outputs": [
    {
     "name": "stdout",
     "output_type": "stream",
     "text": [
      "[[999.    47.75 189.61 210.25  88.36 153.26  10.24  47.33   1.72 170.3 ]\n",
      " [ 47.75 999.   114.92 195.72  47.47  94.67 118.81   1.54  36.12   5.38]\n",
      " [189.61 114.92 999.    19.54  11.97  12.18 222.61 208.22  31.02  20.34]\n",
      " [210.25 195.72  19.54 999.     0.58  32.38   0.18 136.42 169.52  18.23]\n",
      " [ 88.36  47.47  11.97   0.58 999.   137.12  67.08  13.69 155.75  99.6 ]\n",
      " [153.26  94.67  12.18  32.38 137.12 999.     2.22  79.03  65.29 180.63]\n",
      " [ 10.24 118.81 222.61   0.18  67.08   2.22 999.   175.83  16.4  140.19]\n",
      " [ 47.33   1.54 208.22 136.42  13.69  79.03 175.83 999.   181.44   1.44]\n",
      " [  1.72  36.12  31.02 169.52 155.75  65.29  16.4  181.44 999.    47.2 ]\n",
      " [170.3    5.38  20.34  18.23  99.6  180.63 140.19   1.44  47.2  999.  ]]\n"
     ]
    }
   ],
   "source": [
    "np.set_printoptions(suppress=True)\n",
    "\n",
    "sq_diffs = score_diffs**2\n",
    "sq_diffs[np.isnan(sq_diffs)] = 999\n",
    "sq_diffs = sq_diffs.astype(np.float32)\n",
    "print(np.round(sq_diffs,2))"
   ]
  },
  {
   "cell_type": "code",
   "execution_count": 10,
   "metadata": {},
   "outputs": [],
   "source": [
    "from itertools import permutations\n",
    "import math\n",
    "\n",
    "# brute force all combinations\n",
    "idxs = np.arange(10)\n",
    "sum_sq_diffs = np.zeros((math.factorial(10))).astype(np.float32)\n",
    "running_min_diff = np.inf\n",
    "min_idxs = np.zeros((10), dtype=np.float32)\n",
    "idx_comb = permutations(idxs, 10)\n",
    "\n",
    "for i, comb in enumerate(idx_comb):\n",
    "    sum_sq_diffs[i] = np.sum(sq_diffs[np.array(comb),idxs])\n",
    "    if sum_sq_diffs[i] < running_min_diff:\n",
    "        running_min_diff = sum_sq_diffs[i]\n",
    "        min_idxs = np.array(comb, dtype=np.float32)\n",
    "    # if i == 42: # for testing\n",
    "    #     break"
   ]
  },
  {
   "cell_type": "code",
   "execution_count": 12,
   "metadata": {},
   "outputs": [
    {
     "data": {
      "text/plain": [
       "array([8., 7., 4., 6., 3., 2., 5., 9., 0., 1.], dtype=float32)"
      ]
     },
     "execution_count": 12,
     "metadata": {},
     "output_type": "execute_result"
    }
   ],
   "source": [
    "# results of brute force method\n",
    "argmin = np.argmin(sum_sq_diffs)\n",
    "min_sq_diff = sum_sq_diffs[argmin]\n",
    "min_idxs"
   ]
  },
  {
   "cell_type": "markdown",
   "metadata": {
    "id": "bF3kvEc4a4It"
   },
   "source": [
    "## [See our solution!](https://www.practiceprobs.com/problemsets/python-numpy/expert/table-tennis/solution/)"
   ]
  }
 ],
 "metadata": {
  "colab": {
   "collapsed_sections": [],
   "name": "table-tennis.ipynb",
   "provenance": []
  },
  "kernelspec": {
   "display_name": "linusbio",
   "language": "python",
   "name": "python3"
  },
  "language_info": {
   "codemirror_mode": {
    "name": "ipython",
    "version": 3
   },
   "file_extension": ".py",
   "mimetype": "text/x-python",
   "name": "python",
   "nbconvert_exporter": "python",
   "pygments_lexer": "ipython3",
   "version": "3.11.10"
  }
 },
 "nbformat": 4,
 "nbformat_minor": 0
}
