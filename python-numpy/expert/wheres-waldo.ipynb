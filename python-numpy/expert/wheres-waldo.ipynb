{
 "cells": [
  {
   "cell_type": "markdown",
   "metadata": {
    "id": "t1VEtnSjbu-d"
   },
   "source": [
    "[![PracticeProbs](https://d33wubrfki0l68.cloudfront.net/b6800cc830e3fd5a3a4c3d9cfb1137e6a4c15c77/ec467/assets/images/transparent-1.png)](https://www.practiceprobs.com/)"
   ]
  },
  {
   "cell_type": "markdown",
   "metadata": {
    "id": "M6yShpelZy-I"
   },
   "source": [
    "# [Where's Waldo](https://www.practiceprobs.com/problemsets/python-numpy/expert/wheres-waldo/)\n",
    "\n",
    "Given a 1-million element array where each element is a random character in a-z, identify the starting index of every sequence of characters that spells ‘waldo’. Include sequences where at least 4 of the 5 characters match (e.g. ‘waldo’, 'wafdo', and ‘xaldo’ but not ‘wadlo’)."
   ]
  },
  {
   "cell_type": "code",
   "execution_count": 1,
   "metadata": {
    "id": "ZlHN2R3QaPX3"
   },
   "outputs": [
    {
     "name": "stdout",
     "output_type": "stream",
     "text": [
      "['a' 'r' 'p' 'b' 'x' 'f' 'g' 'e' 'i' 'e']\n"
     ]
    }
   ],
   "source": [
    "import numpy as np\n",
    "import string\n",
    "\n",
    "generator = np.random.default_rng(123)\n",
    "chars = generator.choice(list(string.ascii_lowercase), size=10**6, replace=True)\n",
    "\n",
    "print(chars[:10])\n",
    "# ['a' 'r' 'p' 'b' 'x' 'f' 'g' 'e' 'i' 'e']"
   ]
  },
  {
   "cell_type": "markdown",
   "metadata": {
    "id": "h7D8d-J5cela"
   },
   "source": [
    "---"
   ]
  },
  {
   "cell_type": "code",
   "execution_count": 2,
   "metadata": {},
   "outputs": [],
   "source": [
    "ord_chars = np.array([ord(c)-97 for c in chars])\n",
    "waldo_chars = np.array([ord(c)-97 for c in 'waldo'])"
   ]
  },
  {
   "cell_type": "code",
   "execution_count": 3,
   "metadata": {},
   "outputs": [],
   "source": [
    "wheres_waldo = []\n",
    "for i in range(len(ord_chars)-4):\n",
    "    if np.sum(ord_chars[i:i+5] == waldo_chars) >= 4:\n",
    "        wheres_waldo.append(i)"
   ]
  },
  {
   "cell_type": "code",
   "execution_count": 9,
   "metadata": {},
   "outputs": [
    {
     "name": "stdout",
     "output_type": "stream",
     "text": [
      "Index 15063: waldl\n",
      "Index 142002: walio\n",
      "Index 154213: walfo\n",
      "Index 177190: waudo\n",
      "Index 330101: walmo\n",
      "Index 335422: wardo\n",
      "Index 348645: wtldo\n",
      "Index 415541: faldo\n",
      "Index 447457: zaldo\n",
      "Index 505677: wpldo\n",
      "Index 669313: waldd\n",
      "Index 673093: wxldo\n",
      "Index 726243: qaldo\n",
      "Index 879558: wakdo\n",
      "Index 946156: kaldo\n"
     ]
    }
   ],
   "source": [
    "for idx in wheres_waldo:\n",
    "    print(f\"Index {idx}: {''.join(chars[idx:idx+5])}\")"
   ]
  },
  {
   "cell_type": "markdown",
   "metadata": {
    "id": "bF3kvEc4a4It"
   },
   "source": [
    "## [See our solution!](https://www.practiceprobs.com/problemsets/python-numpy/expert/wheres-waldo/solution/)"
   ]
  }
 ],
 "metadata": {
  "colab": {
   "collapsed_sections": [],
   "name": "wheres-waldo.ipynb",
   "provenance": []
  },
  "kernelspec": {
   "display_name": "linusbio",
   "language": "python",
   "name": "python3"
  },
  "language_info": {
   "codemirror_mode": {
    "name": "ipython",
    "version": 3
   },
   "file_extension": ".py",
   "mimetype": "text/x-python",
   "name": "python",
   "nbconvert_exporter": "python",
   "pygments_lexer": "ipython3",
   "version": "3.11.10"
  }
 },
 "nbformat": 4,
 "nbformat_minor": 0
}
