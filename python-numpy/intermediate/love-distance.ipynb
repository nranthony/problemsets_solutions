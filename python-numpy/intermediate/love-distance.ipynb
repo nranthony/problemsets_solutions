{
 "cells": [
  {
   "cell_type": "markdown",
   "metadata": {
    "id": "t1VEtnSjbu-d"
   },
   "source": [
    "[![PracticeProbs](https://d33wubrfki0l68.cloudfront.net/b6800cc830e3fd5a3a4c3d9cfb1137e6a4c15c77/ec467/assets/images/transparent-1.png)](https://www.practiceprobs.com/)"
   ]
  },
  {
   "cell_type": "markdown",
   "metadata": {
    "id": "M6yShpelZy-I"
   },
   "source": [
    "# [Love Distance](https://www.practiceprobs.com/problemsets/python-numpy/intermediate/love-distance/)\n",
    "\n",
    "You’re a relationship scientist, and you’ve developed a questionnaire that determines a person’s *love score* - a real-valued number between 0 and 100. Your theory is that two people with similar love scores should make a good match 👩‍❤️‍💋‍👨\n",
    "\n",
    "Given the love scores for 10 different people, create a 2-d array where (i,j) gives the absolute difference of the love scores for person i and person j."
   ]
  },
  {
   "cell_type": "code",
   "execution_count": 1,
   "metadata": {
    "id": "ZlHN2R3QaPX3"
   },
   "outputs": [
    {
     "name": "stdout",
     "output_type": "stream",
     "text": [
      "[ 9.5  53.58 91.77 98.15 84.88 74.61 40.94 56.49  8.39 64.69]\n"
     ]
    }
   ],
   "source": [
    "import numpy as np\n",
    "\n",
    "generator = np.random.default_rng(1010)\n",
    "love_scores = np.round(generator.uniform(low=0, high=100, size=10), 2)\n",
    "\n",
    "print(love_scores)\n",
    "# [ 9.5  53.58 91.77 98.15 84.88 74.61 40.94 56.49  8.39 64.69]"
   ]
  },
  {
   "cell_type": "markdown",
   "metadata": {
    "id": "h7D8d-J5cela"
   },
   "source": [
    "---"
   ]
  },
  {
   "cell_type": "code",
   "execution_count": 28,
   "metadata": {},
   "outputs": [
    {
     "name": "stdout",
     "output_type": "stream",
     "text": [
      "[[ 0.   44.08 82.27 88.65 75.38 65.11 31.44 46.99  1.11 55.19]\n",
      " [44.08  0.   38.19 44.57 31.3  21.03 12.64  2.91 45.19 11.11]\n",
      " [82.27 38.19  0.    6.38  6.89 17.16 50.83 35.28 83.38 27.08]\n",
      " [88.65 44.57  6.38  0.   13.27 23.54 57.21 41.66 89.76 33.46]\n",
      " [75.38 31.3   6.89 13.27  0.   10.27 43.94 28.39 76.49 20.19]\n",
      " [65.11 21.03 17.16 23.54 10.27  0.   33.67 18.12 66.22  9.92]\n",
      " [31.44 12.64 50.83 57.21 43.94 33.67  0.   15.55 32.55 23.75]\n",
      " [46.99  2.91 35.28 41.66 28.39 18.12 15.55  0.   48.1   8.2 ]\n",
      " [ 1.11 45.19 83.38 89.76 76.49 66.22 32.55 48.1   0.   56.3 ]\n",
      " [55.19 11.11 27.08 33.46 20.19  9.92 23.75  8.2  56.3   0.  ]]\n"
     ]
    }
   ],
   "source": [
    "ls_ = np.repeat(love_scores[:,np.newaxis], len(love_scores), axis=1)\n",
    "abs_diff_love_scores = np.abs(ls_ - ls_.T)\n",
    "print(abs_diff_love_scores)"
   ]
  },
  {
   "cell_type": "markdown",
   "metadata": {
    "id": "bF3kvEc4a4It"
   },
   "source": [
    "## [See our solution!](https://www.practiceprobs.com/problemsets/python-numpy/intermediate/love-distance/solution/)"
   ]
  }
 ],
 "metadata": {
  "colab": {
   "collapsed_sections": [],
   "name": "love-distance.ipynb",
   "provenance": []
  },
  "kernelspec": {
   "display_name": "linusbio",
   "language": "python",
   "name": "python3"
  },
  "language_info": {
   "codemirror_mode": {
    "name": "ipython",
    "version": 3
   },
   "file_extension": ".py",
   "mimetype": "text/x-python",
   "name": "python",
   "nbconvert_exporter": "python",
   "pygments_lexer": "ipython3",
   "version": "3.11.11"
  }
 },
 "nbformat": 4,
 "nbformat_minor": 0
}
