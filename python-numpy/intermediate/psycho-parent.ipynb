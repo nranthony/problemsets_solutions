{
 "cells": [
  {
   "cell_type": "markdown",
   "metadata": {
    "id": "t1VEtnSjbu-d"
   },
   "source": [
    "[![PracticeProbs](https://d33wubrfki0l68.cloudfront.net/b6800cc830e3fd5a3a4c3d9cfb1137e6a4c15c77/ec467/assets/images/transparent-1.png)](https://www.practiceprobs.com/)"
   ]
  },
  {
   "cell_type": "markdown",
   "metadata": {
    "id": "M6yShpelZy-I"
   },
   "source": [
    "# [Pyscho Parent](https://www.practiceprobs.com/problemsets/python-numpy/intermediate/psycho-parent/)\n",
    "\n",
    "Eager to make your mark on the PTA, you decide the best way to hide eggs for the upcoming Easter egg hunt is to use NumPy . You represent the field as a 10x10 array of 0s."
   ]
  },
  {
   "cell_type": "code",
   "execution_count": 1,
   "metadata": {
    "id": "ZlHN2R3QaPX3"
   },
   "outputs": [
    {
     "name": "stdout",
     "output_type": "stream",
     "text": [
      "[[0. 0. 0. 0. 0. 0. 0. 0. 0. 0.]\n",
      " [0. 0. 0. 0. 0. 0. 0. 0. 0. 0.]\n",
      " [0. 0. 0. 0. 0. 0. 0. 0. 0. 0.]\n",
      " [0. 0. 0. 0. 0. 0. 0. 0. 0. 0.]\n",
      " [0. 0. 0. 0. 0. 0. 0. 0. 0. 0.]\n",
      " [0. 0. 0. 0. 0. 0. 0. 0. 0. 0.]\n",
      " [0. 0. 0. 0. 0. 0. 0. 0. 0. 0.]\n",
      " [0. 0. 0. 0. 0. 0. 0. 0. 0. 0.]\n",
      " [0. 0. 0. 0. 0. 0. 0. 0. 0. 0.]\n",
      " [0. 0. 0. 0. 0. 0. 0. 0. 0. 0.]]\n"
     ]
    }
   ],
   "source": [
    "import numpy as np\n",
    "\n",
    "field = np.zeros(shape = (10, 10))\n",
    "\n",
    "print(field)\n",
    "# [[0. 0. 0. 0. 0. 0. 0. 0. 0. 0.]\n",
    "#  [0. 0. 0. 0. 0. 0. 0. 0. 0. 0.]\n",
    "#  [0. 0. 0. 0. 0. 0. 0. 0. 0. 0.]\n",
    "#  [0. 0. 0. 0. 0. 0. 0. 0. 0. 0.]\n",
    "#  [0. 0. 0. 0. 0. 0. 0. 0. 0. 0.]\n",
    "#  [0. 0. 0. 0. 0. 0. 0. 0. 0. 0.]\n",
    "#  [0. 0. 0. 0. 0. 0. 0. 0. 0. 0.]\n",
    "#  [0. 0. 0. 0. 0. 0. 0. 0. 0. 0.]\n",
    "#  [0. 0. 0. 0. 0. 0. 0. 0. 0. 0.]\n",
    "#  [0. 0. 0. 0. 0. 0. 0. 0. 0. 0.]]"
   ]
  },
  {
   "cell_type": "markdown",
   "metadata": {
    "id": "T-lElEsKg-51"
   },
   "source": [
    "Insert 20 random normal values at random (non repeating) locations in the grid. Then you'll know how much candy to hide at each spot."
   ]
  },
  {
   "cell_type": "markdown",
   "metadata": {
    "id": "h7D8d-J5cela"
   },
   "source": [
    "---"
   ]
  },
  {
   "cell_type": "code",
   "execution_count": null,
   "metadata": {},
   "outputs": [],
   "source": []
  },
  {
   "cell_type": "code",
   "execution_count": 23,
   "metadata": {
    "id": "CWwTWfYCa4k0"
   },
   "outputs": [
    {
     "name": "stdout",
     "output_type": "stream",
     "text": [
      "[[0.    0.    0.    0.    0.    0.    0.    0.399 0.    0.268]\n",
      " [0.    0.    0.493 0.    0.    0.    0.    0.    0.    0.   ]\n",
      " [0.432 0.31  0.775 0.    0.    0.391 0.    0.    0.    0.   ]\n",
      " [0.    0.    0.    0.    0.    0.    0.    0.271 0.    0.   ]\n",
      " [0.658 0.    0.314 0.    0.505 0.    0.    0.    0.    0.   ]\n",
      " [0.    0.    0.    0.    0.    0.    0.    0.    0.    0.   ]\n",
      " [0.    0.    0.    0.62  0.    0.    0.392 0.364 0.    0.43 ]\n",
      " [0.165 0.    0.    0.    0.    0.    0.    0.    0.    0.   ]\n",
      " [0.    0.315 0.    0.    0.    0.    0.362 0.48  0.    0.   ]\n",
      " [0.    0.    0.    0.    0.    0.123 0.    0.    0.    0.   ]]\n"
     ]
    }
   ],
   "source": [
    "from sklearn.preprocessing import MinMaxScaler\n",
    "mms = MinMaxScaler()\n",
    "rnd = np.random.default_rng(42)\n",
    "\n",
    "p_grid = rnd.normal(0, 1, (100))\n",
    "p_grid = mms.fit_transform(p_grid[:, np.newaxis]).ravel()\n",
    "\n",
    "cdy_idxs = np.zeros(100)\n",
    "cdy_idxs[rnd.choice(100, size=20, replace=False)] = 1 # set 20 randomly selected entries to 1; acts as a mask\n",
    "cdy_field = np.reshape(np.round(p_grid, 3) * cdy_idxs, (10,10))\n",
    "print(cdy_field)"
   ]
  },
  {
   "cell_type": "markdown",
   "metadata": {
    "id": "bF3kvEc4a4It"
   },
   "source": [
    "## [See our solution!](https://www.practiceprobs.com/problemsets/python-numpy/intermediate/psycho-parent/solution/)"
   ]
  }
 ],
 "metadata": {
  "colab": {
   "collapsed_sections": [],
   "name": "psycho-parent.ipynb",
   "provenance": []
  },
  "kernelspec": {
   "display_name": "linusbio",
   "language": "python",
   "name": "python3"
  },
  "language_info": {
   "codemirror_mode": {
    "name": "ipython",
    "version": 3
   },
   "file_extension": ".py",
   "mimetype": "text/x-python",
   "name": "python",
   "nbconvert_exporter": "python",
   "pygments_lexer": "ipython3",
   "version": "3.11.11"
  }
 },
 "nbformat": 4,
 "nbformat_minor": 0
}
