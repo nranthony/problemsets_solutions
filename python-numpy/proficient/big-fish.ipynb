{
 "cells": [
  {
   "cell_type": "markdown",
   "metadata": {
    "id": "t1VEtnSjbu-d"
   },
   "source": [
    "[![PracticeProbs](https://d33wubrfki0l68.cloudfront.net/b6800cc830e3fd5a3a4c3d9cfb1137e6a4c15c77/ec467/assets/images/transparent-1.png)](https://www.practiceprobs.com/)"
   ]
  },
  {
   "cell_type": "markdown",
   "metadata": {
    "id": "M6yShpelZy-I"
   },
   "source": [
    "# [Big Fish](https://www.practiceprobs.com/problemsets/python-numpy/proficient/big-fish/)\n",
    "\n",
    "10 fish occupy a 5x5x5 grid of water 🐟. Each fish decides to move to a new (i,j,k) location given by the 2-d array below. If multiple fish end up occupying the same cell, the biggest fish eats the smaller fish. Determine which fish survive."
   ]
  },
  {
   "cell_type": "code",
   "execution_count": 2,
   "metadata": {
    "id": "ZlHN2R3QaPX3"
   },
   "outputs": [
    {
     "name": "stdout",
     "output_type": "stream",
     "text": [
      "[-1.69870017  0.53799701 -0.22561399 -1.09020894  0.55391264 -1.50115445\n",
      "  0.44545933  1.3448172  -1.12364327  0.21216015]\n"
     ]
    }
   ],
   "source": [
    "import numpy as np\n",
    "\n",
    "locs = np.array([\n",
    "    [0,0,0],\n",
    "    [1,1,2],\n",
    "    [0,0,0],\n",
    "    [2,1,3],\n",
    "    [5,5,4],\n",
    "    [5,0,0],\n",
    "    [5,0,0],\n",
    "    [0,0,0],\n",
    "    [2,1,3],\n",
    "    [1,3,1]\n",
    "])\n",
    "\n",
    "generator = np.random.default_rng(1010)\n",
    "weights = generator.normal(size=10)\n",
    "\n",
    "print(weights)\n",
    "# [-1.699  0.538 -0.226 -1.09   0.554 -1.501  0.445  1.345 -1.124  0.212]"
   ]
  },
  {
   "cell_type": "markdown",
   "metadata": {
    "id": "h7D8d-J5cela"
   },
   "source": [
    "---"
   ]
  },
  {
   "cell_type": "code",
   "execution_count": null,
   "metadata": {
    "id": "CWwTWfYCa4k0"
   },
   "outputs": [],
   "source": [
    "from sklearn.preprocessing import MinMaxScaler\n",
    "mms = MinMaxScaler()\n",
    "weights_nrm = mms.fit_transform(weights[:, np.newaxis]).ravel() # 0 --> 1  normalized"
   ]
  },
  {
   "cell_type": "markdown",
   "metadata": {},
   "source": [
    "### Using dictionaries"
   ]
  },
  {
   "cell_type": "code",
   "execution_count": 4,
   "metadata": {},
   "outputs": [
    {
     "data": {
      "text/plain": [
       "[{'loc': array([0, 0, 0]), 'weight_nrm': 0.0, 'alive': True},\n",
       " {'loc': array([1, 1, 2]), 'weight_nrm': 0.7349053440345731, 'alive': True},\n",
       " {'loc': array([0, 0, 0]), 'weight_nrm': 0.48400781250074065, 'alive': True},\n",
       " {'loc': array([2, 1, 3]), 'weight_nrm': 0.1999302635044849, 'alive': True},\n",
       " {'loc': array([5, 5, 4]), 'weight_nrm': 0.740134700172978, 'alive': True},\n",
       " {'loc': array([5, 0, 0]), 'weight_nrm': 0.06490704591887986, 'alive': True},\n",
       " {'loc': array([5, 0, 0]), 'weight_nrm': 0.704500497499297, 'alive': True},\n",
       " {'loc': array([0, 0, 0]), 'weight_nrm': 0.9999999999999999, 'alive': True},\n",
       " {'loc': array([2, 1, 3]), 'weight_nrm': 0.1889448416205302, 'alive': True},\n",
       " {'loc': array([1, 3, 1]), 'weight_nrm': 0.6278460377532108, 'alive': True}]"
      ]
     },
     "execution_count": 4,
     "metadata": {},
     "output_type": "execute_result"
    }
   ],
   "source": [
    "fish = {i:{\"loc\": locs[i],\n",
    "           \"weight_nrm\": weights_nrm[i],\n",
    "           \"alive\": True} for i in range(len(locs))}\n",
    "[v for v in fish.values()]"
   ]
  },
  {
   "cell_type": "code",
   "execution_count": 5,
   "metadata": {},
   "outputs": [
    {
     "name": "stdout",
     "output_type": "stream",
     "text": [
      "same loc: (0, 2), 0.0 0.48400781250074065 fish i = 0 died.\n",
      "same loc: (0, 7), 0.0 0.9999999999999999 fish i = 0 died.\n",
      "same loc: (2, 0), 0.48400781250074065 0.0 fish j = 0 died.\n",
      "same loc: (2, 7), 0.48400781250074065 0.9999999999999999 fish i = 2 died.\n",
      "same loc: (3, 8), 0.1999302635044849 0.1889448416205302 fish j = 8 died.\n",
      "same loc: (5, 6), 0.06490704591887986 0.704500497499297 fish i = 5 died.\n",
      "same loc: (6, 5), 0.704500497499297 0.06490704591887986 fish j = 5 died.\n",
      "same loc: (7, 0), 0.9999999999999999 0.0 fish j = 0 died.\n",
      "same loc: (7, 2), 0.9999999999999999 0.48400781250074065 fish j = 2 died.\n",
      "same loc: (8, 3), 0.1889448416205302 0.1999302635044849 fish i = 8 died.\n"
     ]
    }
   ],
   "source": [
    "for i, fi in fish.items():\n",
    "    for j, fj in fish.items():\n",
    "        if np.array_equal(fi['loc'],fj['loc']) & (i != j):\n",
    "            died = ''\n",
    "            if fi['weight_nrm'] > fj['weight_nrm']:\n",
    "                fj['alive'] = False\n",
    "                died = f'fish j = {j} died'\n",
    "            else:\n",
    "                fi['alive'] = False\n",
    "                died = f'fish i = {i} died'\n",
    "            print(f\"same loc: {i,j}, {fi['weight_nrm']} {fj['weight_nrm']} {died}.\")"
   ]
  },
  {
   "cell_type": "code",
   "execution_count": 25,
   "metadata": {},
   "outputs": [
    {
     "name": "stdout",
     "output_type": "stream",
     "text": [
      "Remaining Fish:\n"
     ]
    },
    {
     "data": {
      "text/plain": [
       "[1, 3, 4, 6, 7, 9]"
      ]
     },
     "execution_count": 25,
     "metadata": {},
     "output_type": "execute_result"
    }
   ],
   "source": [
    "print(\"Remaining Fish:\")\n",
    "[i for i in range(len(locs)) if fish[i]['alive']]"
   ]
  },
  {
   "cell_type": "markdown",
   "metadata": {},
   "source": [
    "### Numpy and vector based"
   ]
  },
  {
   "cell_type": "code",
   "execution_count": 29,
   "metadata": {},
   "outputs": [
    {
     "name": "stdout",
     "output_type": "stream",
     "text": [
      "[[1 0 1 0 0 0 0 1 0 0]\n",
      " [0 1 0 0 0 0 0 0 0 0]\n",
      " [1 0 1 0 0 0 0 1 0 0]\n",
      " [0 0 0 1 0 0 0 0 1 0]\n",
      " [0 0 0 0 1 0 0 0 0 0]\n",
      " [0 0 0 0 0 1 1 0 0 0]\n",
      " [0 0 0 0 0 1 1 0 0 0]\n",
      " [1 0 1 0 0 0 0 1 0 0]\n",
      " [0 0 0 1 0 0 0 0 1 0]\n",
      " [0 0 0 0 0 0 0 0 0 1]]\n"
     ]
    }
   ],
   "source": [
    "loc_coinc = (locs[:,None] == locs).all(-1) * 1 # broadcast each loc to every loc similar to outer; true if all coords are true\n",
    "print(loc_coinc)"
   ]
  },
  {
   "cell_type": "code",
   "execution_count": 31,
   "metadata": {},
   "outputs": [
    {
     "name": "stdout",
     "output_type": "stream",
     "text": [
      "[[0 0 0 0 0 0 0 0 0 0]\n",
      " [1 0 1 1 0 1 1 0 1 1]\n",
      " [1 0 0 1 0 1 0 0 1 0]\n",
      " [1 0 0 0 0 1 0 0 1 0]\n",
      " [1 1 1 1 0 1 1 0 1 1]\n",
      " [1 0 0 0 0 0 0 0 0 0]\n",
      " [1 0 1 1 0 1 0 0 1 1]\n",
      " [1 1 1 1 1 1 1 0 1 1]\n",
      " [1 0 0 0 0 1 0 0 0 0]\n",
      " [1 0 1 1 0 1 0 0 1 0]]\n"
     ]
    }
   ],
   "source": [
    "big_fish = (weights_nrm[:,None] > weights_nrm) * 1 # outer, but greater than\n",
    "print(big_fish)"
   ]
  },
  {
   "cell_type": "code",
   "execution_count": 30,
   "metadata": {},
   "outputs": [
    {
     "data": {
      "text/plain": [
       "array([[0, 0, 0, 0, 0, 0, 0, 0, 0, 0],\n",
       "       [0, 0, 0, 0, 0, 0, 0, 0, 0, 0],\n",
       "       [1, 0, 0, 0, 0, 0, 0, 0, 0, 0],\n",
       "       [0, 0, 0, 0, 0, 0, 0, 0, 1, 0],\n",
       "       [0, 0, 0, 0, 0, 0, 0, 0, 0, 0],\n",
       "       [0, 0, 0, 0, 0, 0, 0, 0, 0, 0],\n",
       "       [0, 0, 0, 0, 0, 1, 0, 0, 0, 0],\n",
       "       [1, 0, 1, 0, 0, 0, 0, 0, 0, 0],\n",
       "       [0, 0, 0, 0, 0, 0, 0, 0, 0, 0],\n",
       "       [0, 0, 0, 0, 0, 0, 0, 0, 0, 0]])"
      ]
     },
     "execution_count": 30,
     "metadata": {},
     "output_type": "execute_result"
    }
   ],
   "source": [
    "big_fish * loc_coinc"
   ]
  },
  {
   "cell_type": "code",
   "execution_count": null,
   "metadata": {},
   "outputs": [],
   "source": [
    "# aborting direction, which is only simple for two coincident fish"
   ]
  },
  {
   "cell_type": "markdown",
   "metadata": {
    "id": "bF3kvEc4a4It"
   },
   "source": [
    "## [See our solution!](https://www.practiceprobs.com/problemsets/python-numpy/proficient/big-fish/solution/)"
   ]
  }
 ],
 "metadata": {
  "colab": {
   "collapsed_sections": [],
   "name": "big-fish.ipynb",
   "provenance": []
  },
  "kernelspec": {
   "display_name": "linusbio",
   "language": "python",
   "name": "python3"
  },
  "language_info": {
   "codemirror_mode": {
    "name": "ipython",
    "version": 3
   },
   "file_extension": ".py",
   "mimetype": "text/x-python",
   "name": "python",
   "nbconvert_exporter": "python",
   "pygments_lexer": "ipython3",
   "version": "3.11.11"
  }
 },
 "nbformat": 4,
 "nbformat_minor": 0
}
