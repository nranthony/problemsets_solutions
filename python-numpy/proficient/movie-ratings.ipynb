{
 "cells": [
  {
   "cell_type": "markdown",
   "metadata": {
    "id": "t1VEtnSjbu-d"
   },
   "source": [
    "[![PracticeProbs](https://d33wubrfki0l68.cloudfront.net/b6800cc830e3fd5a3a4c3d9cfb1137e6a4c15c77/ec467/assets/images/transparent-1.png)](https://www.practiceprobs.com/)"
   ]
  },
  {
   "cell_type": "markdown",
   "metadata": {
    "id": "M6yShpelZy-I"
   },
   "source": [
    "# [Movie Ratings](https://www.practiceprobs.com/problemsets/python-numpy/proficient/movie-ratings/)\n",
    "\n",
    "You’re given a 10x2 array of floats where each row represents a movie. The first column represents the movie’s rating and the second column represents the director’s rating."
   ]
  },
  {
   "cell_type": "code",
   "execution_count": 1,
   "metadata": {
    "id": "ZlHN2R3QaPX3"
   },
   "outputs": [
    {
     "name": "stdout",
     "output_type": "stream",
     "text": [
      "[[ 7.  1.]\n",
      " [nan  2.]\n",
      " [nan  8.]\n",
      " [ 9.  3.]\n",
      " [ 8.  9.]\n",
      " [ 5.  2.]\n",
      " [ 8.  2.]\n",
      " [nan  6.]\n",
      " [ 9.  2.]\n",
      " [nan  5.]]\n"
     ]
    }
   ],
   "source": [
    "import numpy as np\n",
    "\n",
    "generator = np.random.default_rng(123)\n",
    "ratings = np.round(generator.uniform(low=0.0, high=10.0, size=(10, 2)))\n",
    "ratings[[1,2,7,9], [0,0,0,0]] = np.nan\n",
    "\n",
    "print(ratings)\n",
    "# [[ 7.  1.]\n",
    "#  [nan  2.]\n",
    "#  [nan  8.]\n",
    "#  [ 9.  3.]\n",
    "#  [ 8.  9.]\n",
    "#  [ 5.  2.]\n",
    "#  [ 8.  2.]\n",
    "#  [nan  6.]\n",
    "#  [ 9.  2.]\n",
    "#  [nan  5.]]"
   ]
  },
  {
   "cell_type": "markdown",
   "metadata": {
    "id": "w9EsBXWUhpCa"
   },
   "source": [
    "Create a third column that represents the overall rating. The overall rating is equal to the movie rating if it exists, otherwise the director’s rating."
   ]
  },
  {
   "cell_type": "markdown",
   "metadata": {
    "id": "h7D8d-J5cela"
   },
   "source": [
    "---"
   ]
  },
  {
   "cell_type": "code",
   "execution_count": 5,
   "metadata": {},
   "outputs": [],
   "source": [
    "ratings = np.pad(ratings, ((0,0),(0,1))) # increase dim 1 by 1 step at the end"
   ]
  },
  {
   "cell_type": "code",
   "execution_count": 6,
   "metadata": {},
   "outputs": [
    {
     "name": "stdout",
     "output_type": "stream",
     "text": [
      "[[ 7.  1.  7.]\n",
      " [nan  2.  2.]\n",
      " [nan  8.  8.]\n",
      " [ 9.  3.  9.]\n",
      " [ 8.  9.  8.]\n",
      " [ 5.  2.  5.]\n",
      " [ 8.  2.  8.]\n",
      " [nan  6.  6.]\n",
      " [ 9.  2.  9.]\n",
      " [nan  5.  5.]]\n"
     ]
    }
   ],
   "source": [
    "for i in range(len(ratings)):\n",
    "    if np.isnan(ratings[i][0]):\n",
    "        ratings[i][2] = ratings[i][1]\n",
    "    else:\n",
    "        ratings[i][2] = ratings[i][0]\n",
    "print(ratings)"
   ]
  },
  {
   "cell_type": "markdown",
   "metadata": {
    "id": "bF3kvEc4a4It"
   },
   "source": [
    "## [See our solution!](https://www.practiceprobs.com/problemsets/python-numpy/proficient/movie-ratings/solution/)"
   ]
  }
 ],
 "metadata": {
  "colab": {
   "collapsed_sections": [],
   "name": "movie-ratings.ipynb",
   "provenance": []
  },
  "kernelspec": {
   "display_name": "linusbio",
   "language": "python",
   "name": "python3"
  },
  "language_info": {
   "codemirror_mode": {
    "name": "ipython",
    "version": 3
   },
   "file_extension": ".py",
   "mimetype": "text/x-python",
   "name": "python",
   "nbconvert_exporter": "python",
   "pygments_lexer": "ipython3",
   "version": "3.11.10"
  }
 },
 "nbformat": 4,
 "nbformat_minor": 0
}
