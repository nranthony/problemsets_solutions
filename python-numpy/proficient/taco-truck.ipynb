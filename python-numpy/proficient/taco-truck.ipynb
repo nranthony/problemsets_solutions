{
 "cells": [
  {
   "cell_type": "markdown",
   "metadata": {
    "id": "t1VEtnSjbu-d"
   },
   "source": [
    "[![PracticeProbs](https://d33wubrfki0l68.cloudfront.net/b6800cc830e3fd5a3a4c3d9cfb1137e6a4c15c77/ec467/assets/images/transparent-1.png)](https://www.practiceprobs.com/)"
   ]
  },
  {
   "cell_type": "markdown",
   "metadata": {
    "id": "M6yShpelZy-I"
   },
   "source": [
    "# [Taco Truck](https://www.practiceprobs.com/problemsets/python-numpy/proficient/taco-truck/)\n",
    "\n",
    "You own a taco truck that’s open 24/7 and manage five employees who run it. Employees work solo, eight-hour shifts. You decide the best way to set their schedule for the upcoming week is to create a bunch of random schedules and select one that looks best.\n",
    "\n",
    "You build a 1000x21 array of random employee ids where element (i,j) gives the employee id working shift j for schedule i."
   ]
  },
  {
   "cell_type": "code",
   "execution_count": null,
   "metadata": {
    "id": "ZlHN2R3QaPX3"
   },
   "outputs": [],
   "source": [
    "import numpy as np\n",
    "\n",
    "generator = np.random.default_rng(999)\n",
    "schedules = generator.integers(low=0, high=5, size=(1000, 21))\n",
    "\n",
    "print(schedules)\n",
    "# [[4 3 0 ... 2 0 0]\n",
    "#  [2 4 3 ... 3 3 2]\n",
    "#  [1 0 1 ... 1 2 1]\n",
    "#  ...\n",
    "#  [2 2 1 ... 3 1 4]\n",
    "#  [1 0 3 ... 2 3 2]\n",
    "#  [1 1 4 ... 2 4 2]]"
   ]
  },
  {
   "cell_type": "markdown",
   "metadata": {
    "id": "w9EsBXWUhpCa"
   },
   "source": [
    "A Schedule is *valid* as long as no employee works two consecutive shifts. Get the row indices of all *valid* schedules."
   ]
  },
  {
   "cell_type": "markdown",
   "metadata": {
    "id": "h7D8d-J5cela"
   },
   "source": [
    "---"
   ]
  },
  {
   "cell_type": "code",
   "execution_count": null,
   "metadata": {
    "id": "CWwTWfYCa4k0"
   },
   "outputs": [],
   "source": [
    "# valid schedules - i axis (0)\n",
    "# undefined question - \n"
   ]
  },
  {
   "cell_type": "markdown",
   "metadata": {
    "id": "bF3kvEc4a4It"
   },
   "source": [
    "## [See our solution!](https://www.practiceprobs.com/problemsets/python-numpy/proficient/taco-truck/solution/)"
   ]
  }
 ],
 "metadata": {
  "colab": {
   "collapsed_sections": [],
   "name": "taco-truck.ipynb",
   "provenance": []
  },
  "kernelspec": {
   "display_name": "linusbio",
   "language": "python",
   "name": "python3"
  },
  "language_info": {
   "name": "python",
   "version": "3.11.10"
  }
 },
 "nbformat": 4,
 "nbformat_minor": 0
}
