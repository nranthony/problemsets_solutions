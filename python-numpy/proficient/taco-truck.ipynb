{
 "cells": [
  {
   "cell_type": "markdown",
   "metadata": {
    "id": "t1VEtnSjbu-d"
   },
   "source": [
    "[![PracticeProbs](https://d33wubrfki0l68.cloudfront.net/b6800cc830e3fd5a3a4c3d9cfb1137e6a4c15c77/ec467/assets/images/transparent-1.png)](https://www.practiceprobs.com/)"
   ]
  },
  {
   "cell_type": "markdown",
   "metadata": {
    "id": "M6yShpelZy-I"
   },
   "source": [
    "# [Taco Truck](https://www.practiceprobs.com/problemsets/python-numpy/proficient/taco-truck/)\n",
    "\n",
    "You own a taco truck that’s open 24/7 and manage five employees who run it. Employees work solo, eight-hour shifts. You decide the best way to set their schedule for the upcoming week is to create a bunch of random schedules and select one that looks best.\n",
    "\n",
    "You build a 1000x21 array of random employee ids where element (i,j) gives the employee id working shift j for schedule i."
   ]
  },
  {
   "cell_type": "code",
   "execution_count": 1,
   "metadata": {
    "id": "ZlHN2R3QaPX3"
   },
   "outputs": [
    {
     "name": "stdout",
     "output_type": "stream",
     "text": [
      "[[4 3 0 ... 2 0 0]\n",
      " [2 4 3 ... 3 3 2]\n",
      " [1 0 1 ... 1 2 1]\n",
      " ...\n",
      " [2 2 1 ... 3 1 4]\n",
      " [1 0 3 ... 2 3 2]\n",
      " [1 1 4 ... 2 4 2]]\n"
     ]
    }
   ],
   "source": [
    "import numpy as np\n",
    "\n",
    "generator = np.random.default_rng(999)\n",
    "schedules = generator.integers(low=0, high=5, size=(1000, 21))\n",
    "\n",
    "print(schedules)\n",
    "# [[4 3 0 ... 2 0 0]\n",
    "#  [2 4 3 ... 3 3 2]\n",
    "#  [1 0 1 ... 1 2 1]\n",
    "#  ...\n",
    "#  [2 2 1 ... 3 1 4]\n",
    "#  [1 0 3 ... 2 3 2]\n",
    "#  [1 1 4 ... 2 4 2]]"
   ]
  },
  {
   "cell_type": "markdown",
   "metadata": {
    "id": "w9EsBXWUhpCa"
   },
   "source": [
    "A Schedule is *valid* as long as no employee works two consecutive shifts. Get the row indices of all *valid* schedules."
   ]
  },
  {
   "cell_type": "markdown",
   "metadata": {
    "id": "h7D8d-J5cela"
   },
   "source": [
    "---"
   ]
  },
  {
   "cell_type": "code",
   "execution_count": 16,
   "metadata": {
    "id": "CWwTWfYCa4k0"
   },
   "outputs": [
    {
     "name": "stdout",
     "output_type": "stream",
     "text": [
      "Schedule 0: [4 3 0 0 0 3 0 3 0 0 0 4 0 0 4 3 2 4 2 0 0]\n",
      "Diff 0: [-1 -3  0  0  3 -3  3 -3  0  0  4 -4  0  4 -1 -1  2 -2 -2  0]\n",
      "Valid Schedule Indicies: [25, 138, 188, 289, 375, 426, 533, 886, 975, 982]\n"
     ]
    }
   ],
   "source": [
    "# valid schedules - i axis (0) - if no consecutive values\n",
    "# shift j covers entire week,  3 per day, 7 days: 21 shifts\n",
    "\n",
    "# use np diff -> if 0 it implies the same value\n",
    "# test example:\n",
    "def test_schedule_example(schedules, idx):\n",
    "    print(f\"Schedule {idx}:\", schedules[idx])\n",
    "    print(f\"Diff {idx}:\", np.diff(schedules[idx,], 1, axis=0))\n",
    "\n",
    "test_schedule_example(schedules, 0)\n",
    "sch_diff = np.diff(schedules, 1, axis=1)\n",
    "\n",
    "# check all i schedules for 0's\n",
    "valid_idxs = []\n",
    "is_valids = []\n",
    "for i in range(len(sch_diff)):\n",
    "    is_valid = not (sch_diff[i,:] == 0).any()\n",
    "    is_valids.append(is_valid)\n",
    "    if is_valid:\n",
    "        valid_idxs.append(i)\n",
    "print(\"Valid Schedule Indicies:\", valid_idxs)"
   ]
  },
  {
   "cell_type": "code",
   "execution_count": 17,
   "metadata": {},
   "outputs": [
    {
     "name": "stdout",
     "output_type": "stream",
     "text": [
      "Schedule 25: [1 4 1 4 2 4 3 4 0 1 2 3 0 3 1 2 1 2 0 4 0]\n",
      "Diff 25: [ 3 -3  3 -2  2 -1  1 -4  1  1  1 -3  3 -2  1 -1  1 -2  4 -4]\n",
      "Schedule 138: [0 4 3 0 4 3 0 4 3 4 1 2 4 0 1 4 1 0 3 2 0]\n",
      "Diff 138: [ 4 -1 -3  4 -1 -3  4 -1  1 -3  1  2 -4  1  3 -3 -1  3 -1 -2]\n",
      "Schedule 188: [2 4 0 1 0 2 1 2 4 1 3 1 0 2 0 3 0 3 0 2 1]\n",
      "Diff 188: [ 2 -4  1 -1  2 -1  1  2 -3  2 -2 -1  2 -2  3 -3  3 -3  2 -1]\n",
      "Schedule 289: [0 3 1 4 2 1 4 2 4 1 0 4 1 0 4 2 4 3 0 3 1]\n",
      "Diff 289: [ 3 -2  3 -2 -1  3 -2  2 -3 -1  4 -3 -1  4 -2  2 -1 -3  3 -2]\n",
      "Schedule 375: [0 4 3 1 2 3 4 3 1 2 1 2 0 2 0 3 2 0 3 1 4]\n",
      "Diff 375: [ 4 -1 -2  1  1  1 -1 -2  1 -1  1 -2  2 -2  3 -1 -2  3 -2  3]\n",
      "Schedule 426: [1 0 2 0 2 3 2 3 4 1 2 4 3 4 0 4 1 0 2 1 2]\n",
      "Diff 426: [-1  2 -2  2  1 -1  1  1 -3  1  2 -1  1 -4  4 -3 -1  2 -1  1]\n",
      "Schedule 533: [2 1 4 1 3 0 4 1 2 3 4 3 0 3 4 3 1 3 1 2 3]\n",
      "Diff 533: [-1  3 -3  2 -3  4 -3  1  1  1 -1 -3  3  1 -1 -2  2 -2  1  1]\n",
      "Schedule 886: [3 4 3 0 4 1 0 4 1 4 1 3 1 3 4 3 1 2 3 4 0]\n",
      "Diff 886: [ 1 -1 -3  4 -3 -1  4 -3  3 -3  2 -2  2  1 -1 -2  1  1  1 -4]\n",
      "Schedule 975: [1 3 0 2 4 1 2 1 4 2 0 1 0 3 1 2 0 4 1 4 2]\n",
      "Diff 975: [ 2 -3  2  2 -3  1 -1  3 -2 -2  1 -1  3 -2  1 -2  4 -3  3 -2]\n",
      "Schedule 982: [4 2 3 2 4 1 3 2 0 2 4 0 4 2 3 0 4 1 2 1 2]\n",
      "Diff 982: [-2  1 -1  2 -3  2 -1 -2  2  2 -4  4 -2  1 -3  4 -3  1 -1  1]\n"
     ]
    }
   ],
   "source": [
    "# visual check on results\n",
    "for idx in valid_idxs:\n",
    "    test_schedule_example(schedules, idx)"
   ]
  },
  {
   "cell_type": "markdown",
   "metadata": {
    "id": "bF3kvEc4a4It"
   },
   "source": [
    "## [See our solution!](https://www.practiceprobs.com/problemsets/python-numpy/proficient/taco-truck/solution/)"
   ]
  }
 ],
 "metadata": {
  "colab": {
   "collapsed_sections": [],
   "name": "taco-truck.ipynb",
   "provenance": []
  },
  "kernelspec": {
   "display_name": "linusbio",
   "language": "python",
   "name": "python3"
  },
  "language_info": {
   "codemirror_mode": {
    "name": "ipython",
    "version": 3
   },
   "file_extension": ".py",
   "mimetype": "text/x-python",
   "name": "python",
   "nbconvert_exporter": "python",
   "pygments_lexer": "ipython3",
   "version": "3.11.11"
  }
 },
 "nbformat": 4,
 "nbformat_minor": 0
}
