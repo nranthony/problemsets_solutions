{
 "cells": [
  {
   "cell_type": "markdown",
   "metadata": {
    "id": "t1VEtnSjbu-d"
   },
   "source": [
    "[![PracticeProbs](https://d33wubrfki0l68.cloudfront.net/b6800cc830e3fd5a3a4c3d9cfb1137e6a4c15c77/ec467/assets/images/transparent-1.png)](https://www.practiceprobs.com/)"
   ]
  },
  {
   "cell_type": "markdown",
   "metadata": {
    "id": "M6yShpelZy-I"
   },
   "source": [
    "# [Pass Or Fail](https://www.practiceprobs.com/problemsets/pytorch/basic-models/pass-or-fail/)\n",
    "\n",
    "A class of 100 students takes an exam. At the end of the exam, the students self-report the number of hours they studied 📚 for the exam and the amount of sleep 😴 they got the night before. Here's what the data looks like including the Pass/Fail exam results."
   ]
  },
  {
   "cell_type": "code",
   "execution_count": 1,
   "metadata": {
    "executionInfo": {
     "elapsed": 5,
     "status": "ok",
     "timestamp": 1650337860741,
     "user": {
      "displayName": "Ben Gorman",
      "userId": "14173905571034790649"
     },
     "user_tz": 300
    },
    "id": "B8VGFbaFypzq"
   },
   "outputs": [],
   "source": [
    "import numpy as np\n",
    "\n",
    "# random number generator\n",
    "rng = np.random.default_rng(123)\n",
    "\n",
    "# data (72 passes / 28 fails)\n",
    "passes_sleep = rng.normal(loc=8, scale=1, size=72)\n",
    "passes_study = rng.normal(loc=12, scale=3, size=72)\n",
    "fails_sleep = rng.normal(loc=6, scale=1.5, size=28)\n",
    "fails_study = rng.normal(loc=6, scale=2, size=28)"
   ]
  },
  {
   "cell_type": "markdown",
   "metadata": {
    "id": "CSmGXRWXytYG"
   },
   "source": [
    "## Plot"
   ]
  },
  {
   "cell_type": "code",
   "execution_count": 2,
   "metadata": {
    "colab": {
     "base_uri": "https://localhost:8080/",
     "height": 406
    },
    "executionInfo": {
     "elapsed": 519,
     "status": "ok",
     "timestamp": 1650337861256,
     "user": {
      "displayName": "Ben Gorman",
      "userId": "14173905571034790649"
     },
     "user_tz": 300
    },
    "id": "LWGd9WroyuLz",
    "outputId": "b70e2d93-89ae-4eb0-b3b6-d138eb0f4392"
   },
   "outputs": [
    {
     "data": {
      "text/plain": [
       "<matplotlib.legend.Legend at 0x20b3040af90>"
      ]
     },
     "execution_count": 2,
     "metadata": {},
     "output_type": "execute_result"
    },
    {
     "data": {
      "image/png": "[encoded data removed]",
      "text/plain": [
       "<Figure size 800x600 with 1 Axes>"
      ]
     },
     "metadata": {},
     "output_type": "display_data"
    }
   ],
   "source": [
    "import matplotlib.pyplot as plt\n",
    "\n",
    "fig, ax = plt.subplots(figsize=(8,6))\n",
    "ax.plot(passes_sleep, passes_study, linestyle='None', marker='o', color='g', label='pass')\n",
    "ax.plot(fails_sleep, fails_study, linestyle='None', marker='o', color='r', label='fail')\n",
    "ax.set_xlabel('Sleep Time')\n",
    "ax.set_ylabel('Study Time')\n",
    "ax.legend()"
   ]
  },
  {
   "cell_type": "markdown",
   "metadata": {
    "id": "6XffTpTty2Yq"
   },
   "source": [
    "**Design and fit a [logistic regression](https://en.wikipedia.org/wiki/Logistic_function) model to this data**. Be sure to subclass [`nn.Module`](https://pytorch.org/docs/stable/generated/torch.nn.Module.html).\n",
    "\n",
    "Here's some starter code."
   ]
  },
  {
   "cell_type": "markdown",
   "metadata": {},
   "source": [
    "#### data (72 passes / 28 fails)\n",
    "- passes_sleep = rng.normal(loc=8, scale=1, size=72)\n",
    "- passes_study = rng.normal(loc=12, scale=3, size=72)\n",
    "- fails_sleep = rng.normal(loc=6, scale=1.5, size=28)\n",
    "- fails_study = rng.normal(loc=6, scale=2, size=28)"
   ]
  },
  {
   "cell_type": "code",
   "execution_count": 4,
   "metadata": {
    "executionInfo": {
     "elapsed": 8364,
     "status": "ok",
     "timestamp": 1650337869617,
     "user": {
      "displayName": "Ben Gorman",
      "userId": "14173905571034790649"
     },
     "user_tz": 300
    },
    "id": "r8rounbIzCa7"
   },
   "outputs": [],
   "source": [
    "import torch\n",
    "from torch import nn\n",
    "import torch.nn.functional as F\n",
    "device = torch.device('cuda' if torch.cuda.is_available() else 'cpu')\n",
    "\n",
    "# set random seed for reproducibility\n",
    "torch.manual_seed(0)\n",
    "\n",
    "class LogisticRegression(nn.Module):\n",
    "    \"\"\"\n",
    "    Logistic Regression model of the form 1/(1 + e^-(w1x1 + w2x2 + ...wnxn + b))\n",
    "    \"\"\"\n",
    "    def __init__(self) -> None:\n",
    "        super().__init__()\n",
    "        # in features -> sleep hrs, study hrs\n",
    "        # out features -> pass/fail\n",
    "        self.lin = nn.Linear(in_features=2, out_features=1, device=device)\n",
    "\n",
    "    def forward(self, x):\n",
    "        return F.sigmoid(self.lin(x))\n"
   ]
  },
  {
   "cell_type": "markdown",
   "metadata": {
    "id": "l2dzMSKHzFmM"
   },
   "source": [
    "## Bonus 1\n",
    "\n",
    "Use your fitted model to make predictions on the following test data."
   ]
  },
  {
   "cell_type": "code",
   "execution_count": 4,
   "metadata": {
    "executionInfo": {
     "elapsed": 7,
     "status": "ok",
     "timestamp": 1650337869618,
     "user": {
      "displayName": "Ben Gorman",
      "userId": "14173905571034790649"
     },
     "user_tz": 300
    },
    "id": "XVs3jgm1zJNd"
   },
   "outputs": [],
   "source": [
    "test_sleep = np.array([\n",
    "    7.06, 7.19, 7.59, 8.84, 9.66, 9.72, 8.81,\n",
    "    8.44, 5.66, 9.13, 8.04, 5.31, 7.07, 8.33, 7.83\n",
    "])\n",
    "test_study = np.array([\n",
    "    19.89, 13.36, 12.7, 14.1, 14.19, 12.4, 10.88, \n",
    "    13.09, 7.88, 6.35, 4.89, 6.65, 3.67, 5.79, 8.09\n",
    "])"
   ]
  },
  {
   "cell_type": "markdown",
   "metadata": {
    "id": "qBiDzUxezJ8g"
   },
   "source": [
    "## Bonus 2\n",
    "\n",
    "Draw your fitted model's decision boundary onto the plot above."
   ]
  },
  {
   "cell_type": "markdown",
   "metadata": {
    "id": "h7D8d-J5cela"
   },
   "source": [
    "---"
   ]
  },
  {
   "cell_type": "code",
   "execution_count": 5,
   "metadata": {
    "executionInfo": {
     "elapsed": 7,
     "status": "ok",
     "timestamp": 1650337869620,
     "user": {
      "displayName": "Ben Gorman",
      "userId": "14173905571034790649"
     },
     "user_tz": 300
    },
    "id": "CWwTWfYCa4k0"
   },
   "outputs": [],
   "source": [
    "# Your brilliant solution here!"
   ]
  },
  {
   "cell_type": "markdown",
   "metadata": {
    "id": "bF3kvEc4a4It"
   },
   "source": [
    "## [See our solution!](https://www.practiceprobs.com/problemsets/pytorch/basic-models/pass-or-fail/solution/)"
   ]
  }
 ],
 "metadata": {
  "colab": {
   "collapsed_sections": [],
   "name": "pass-or-fail.ipynb",
   "provenance": []
  },
  "kernelspec": {
   "display_name": "linusbio",
   "language": "python",
   "name": "python3"
  },
  "language_info": {
   "codemirror_mode": {
    "name": "ipython",
    "version": 3
   },
   "file_extension": ".py",
   "mimetype": "text/x-python",
   "name": "python",
   "nbconvert_exporter": "python",
   "pygments_lexer": "ipython3",
   "version": "3.11.11"
  }
 },
 "nbformat": 4,
 "nbformat_minor": 0
}
